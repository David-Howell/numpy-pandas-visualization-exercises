{
 "cells": [
  {
   "cell_type": "markdown",
   "id": "f35057d6",
   "metadata": {},
   "source": [
    "# Pandas Series\n",
    "\n",
    "  * matplotlib, numpy, pandas, seaborn, scikitlearn, stats, scipy...\n",
    "  \n",
    "  ### Some comparisons\n",
    "  \n",
    "   * Numpy: arrays\n",
    "   * Pandas: Series and Dataframes\n",
    "   \n",
    "   * Series: like a nupy array, but with come additional functionality\n",
    "   "
   ]
  },
  {
   "cell_type": "code",
   "execution_count": 1,
   "id": "31f393ae",
   "metadata": {},
   "outputs": [
    {
     "name": "stdout",
     "output_type": "stream",
     "text": [
      "initiated datasets repo at: /Users/davidhowell/.pydataset/\n"
     ]
    }
   ],
   "source": [
    "import pandas as pd\n",
    "import numpy as np\n",
    "from pydataset import data"
   ]
  },
  {
   "cell_type": "markdown",
   "id": "0394d1eb",
   "metadata": {},
   "source": [
    "## Create a Series\n",
    "  1. from a list\n",
    "  2. from a numpy array\n",
    "  3. from a dataframe\n"
   ]
  },
  {
   "cell_type": "markdown",
   "id": "fcb770f2",
   "metadata": {},
   "source": [
    "#### Create a Series from a list"
   ]
  },
  {
   "cell_type": "code",
   "execution_count": 2,
   "id": "e7eff63c",
   "metadata": {},
   "outputs": [
    {
     "data": {
      "text/plain": [
       "list"
      ]
     },
     "execution_count": 2,
     "metadata": {},
     "output_type": "execute_result"
    }
   ],
   "source": [
    "my_list = [2, 3, 5]\n",
    "type(my_list)"
   ]
  },
  {
   "cell_type": "markdown",
   "id": "def1852e",
   "metadata": {},
   "source": [
    "in a list you can use and index to access value in list, and those indices are integers representing location. These indices in a list cannot be changed to be a name, datetime, etc."
   ]
  },
  {
   "cell_type": "code",
   "execution_count": 3,
   "id": "d4b2e8c2",
   "metadata": {},
   "outputs": [
    {
     "data": {
      "text/plain": [
       "2"
      ]
     },
     "execution_count": 3,
     "metadata": {},
     "output_type": "execute_result"
    }
   ],
   "source": [
    "my_list[0]"
   ]
  },
  {
   "cell_type": "code",
   "execution_count": 4,
   "id": "aefe1e59",
   "metadata": {},
   "outputs": [
    {
     "data": {
      "text/plain": [
       "numpy.ndarray"
      ]
     },
     "execution_count": 4,
     "metadata": {},
     "output_type": "execute_result"
    }
   ],
   "source": [
    "my_array = np.array(my_list)\n",
    "type(my_array)"
   ]
  },
  {
   "cell_type": "markdown",
   "id": "5b826f7f",
   "metadata": {},
   "source": [
    "### my_series = pd.Series(my_list)\n",
    "type(my_series)"
   ]
  },
  {
   "cell_type": "markdown",
   "id": "69be8d2b",
   "metadata": {},
   "source": [
    "what's inside this.."
   ]
  },
  {
   "cell_type": "code",
   "execution_count": 6,
   "id": "000e1afe",
   "metadata": {},
   "outputs": [
    {
     "data": {
      "text/plain": [
       "0    2\n",
       "1    3\n",
       "2    5\n",
       "dtype: int64"
      ]
     },
     "execution_count": 6,
     "metadata": {},
     "output_type": "execute_result"
    }
   ],
   "source": [
    "my_series"
   ]
  },
  {
   "cell_type": "markdown",
   "id": "eb43e621",
   "metadata": {},
   "source": [
    "Create a series from an array"
   ]
  },
  {
   "cell_type": "code",
   "execution_count": 7,
   "id": "fe4b32cc",
   "metadata": {},
   "outputs": [],
   "source": [
    "my_array = np.array([8.0, 13.0, 21.0])"
   ]
  },
  {
   "cell_type": "code",
   "execution_count": 8,
   "id": "f60adff2",
   "metadata": {},
   "outputs": [],
   "source": [
    "my_series = pd.Series(my_array)"
   ]
  },
  {
   "cell_type": "code",
   "execution_count": 9,
   "id": "0bc5bd55",
   "metadata": {},
   "outputs": [
    {
     "data": {
      "text/plain": [
       "0     8.0\n",
       "1    13.0\n",
       "2    21.0\n",
       "dtype: float64"
      ]
     },
     "execution_count": 9,
     "metadata": {},
     "output_type": "execute_result"
    }
   ],
   "source": [
    "my_series"
   ]
  },
  {
   "cell_type": "markdown",
   "id": "99d9883e",
   "metadata": {},
   "source": [
    "Create a series from a List"
   ]
  },
  {
   "cell_type": "code",
   "execution_count": 11,
   "id": "0b1d6ea8",
   "metadata": {},
   "outputs": [
    {
     "data": {
      "text/html": [
       "<div>\n",
       "<style scoped>\n",
       "    .dataframe tbody tr th:only-of-type {\n",
       "        vertical-align: middle;\n",
       "    }\n",
       "\n",
       "    .dataframe tbody tr th {\n",
       "        vertical-align: top;\n",
       "    }\n",
       "\n",
       "    .dataframe thead th {\n",
       "        text-align: right;\n",
       "    }\n",
       "</style>\n",
       "<table border=\"1\" class=\"dataframe\">\n",
       "  <thead>\n",
       "    <tr style=\"text-align: right;\">\n",
       "      <th></th>\n",
       "      <th>Reaction</th>\n",
       "      <th>Days</th>\n",
       "      <th>Subject</th>\n",
       "    </tr>\n",
       "  </thead>\n",
       "  <tbody>\n",
       "    <tr>\n",
       "      <th>1</th>\n",
       "      <td>249.5600</td>\n",
       "      <td>0</td>\n",
       "      <td>308</td>\n",
       "    </tr>\n",
       "    <tr>\n",
       "      <th>2</th>\n",
       "      <td>258.7047</td>\n",
       "      <td>1</td>\n",
       "      <td>308</td>\n",
       "    </tr>\n",
       "    <tr>\n",
       "      <th>3</th>\n",
       "      <td>250.8006</td>\n",
       "      <td>2</td>\n",
       "      <td>308</td>\n",
       "    </tr>\n",
       "    <tr>\n",
       "      <th>4</th>\n",
       "      <td>321.4398</td>\n",
       "      <td>3</td>\n",
       "      <td>308</td>\n",
       "    </tr>\n",
       "    <tr>\n",
       "      <th>5</th>\n",
       "      <td>356.8519</td>\n",
       "      <td>4</td>\n",
       "      <td>308</td>\n",
       "    </tr>\n",
       "  </tbody>\n",
       "</table>\n",
       "</div>"
      ],
      "text/plain": [
       "   Reaction  Days  Subject\n",
       "1  249.5600     0      308\n",
       "2  258.7047     1      308\n",
       "3  250.8006     2      308\n",
       "4  321.4398     3      308\n",
       "5  356.8519     4      308"
      ]
     },
     "execution_count": 11,
     "metadata": {},
     "output_type": "execute_result"
    }
   ],
   "source": [
    "my_df = data('sleepstudy')\n",
    "my_df.head()"
   ]
  },
  {
   "cell_type": "markdown",
   "id": "608a7fb1",
   "metadata": {},
   "source": [
    "if I try to make a series from a multi-column dataframe, I will get an error"
   ]
  },
  {
   "cell_type": "code",
   "execution_count": 13,
   "id": "f9fa0f27",
   "metadata": {},
   "outputs": [],
   "source": [
    "my_series = my_df.Reaction"
   ]
  },
  {
   "cell_type": "code",
   "execution_count": 14,
   "id": "69167972",
   "metadata": {},
   "outputs": [
    {
     "data": {
      "text/plain": [
       "pandas.core.series.Series"
      ]
     },
     "execution_count": 14,
     "metadata": {},
     "output_type": "execute_result"
    }
   ],
   "source": [
    "type(my_series)"
   ]
  },
  {
   "cell_type": "code",
   "execution_count": 15,
   "id": "0c562ccb",
   "metadata": {},
   "outputs": [
    {
     "data": {
      "text/plain": [
       "1      249.5600\n",
       "2      258.7047\n",
       "3      250.8006\n",
       "4      321.4398\n",
       "5      356.8519\n",
       "         ...   \n",
       "176    329.6076\n",
       "177    334.4818\n",
       "178    343.2199\n",
       "179    369.1417\n",
       "180    364.1236\n",
       "Name: Reaction, Length: 180, dtype: float64"
      ]
     },
     "execution_count": 15,
     "metadata": {},
     "output_type": "execute_result"
    }
   ],
   "source": [
    "my_df['Reaction']"
   ]
  },
  {
   "cell_type": "code",
   "execution_count": 16,
   "id": "7579295f",
   "metadata": {},
   "outputs": [
    {
     "data": {
      "text/html": [
       "<div>\n",
       "<style scoped>\n",
       "    .dataframe tbody tr th:only-of-type {\n",
       "        vertical-align: middle;\n",
       "    }\n",
       "\n",
       "    .dataframe tbody tr th {\n",
       "        vertical-align: top;\n",
       "    }\n",
       "\n",
       "    .dataframe thead th {\n",
       "        text-align: right;\n",
       "    }\n",
       "</style>\n",
       "<table border=\"1\" class=\"dataframe\">\n",
       "  <thead>\n",
       "    <tr style=\"text-align: right;\">\n",
       "      <th></th>\n",
       "      <th>Reaction</th>\n",
       "    </tr>\n",
       "  </thead>\n",
       "  <tbody>\n",
       "    <tr>\n",
       "      <th>1</th>\n",
       "      <td>249.5600</td>\n",
       "    </tr>\n",
       "    <tr>\n",
       "      <th>2</th>\n",
       "      <td>258.7047</td>\n",
       "    </tr>\n",
       "    <tr>\n",
       "      <th>3</th>\n",
       "      <td>250.8006</td>\n",
       "    </tr>\n",
       "    <tr>\n",
       "      <th>4</th>\n",
       "      <td>321.4398</td>\n",
       "    </tr>\n",
       "    <tr>\n",
       "      <th>5</th>\n",
       "      <td>356.8519</td>\n",
       "    </tr>\n",
       "    <tr>\n",
       "      <th>...</th>\n",
       "      <td>...</td>\n",
       "    </tr>\n",
       "    <tr>\n",
       "      <th>176</th>\n",
       "      <td>329.6076</td>\n",
       "    </tr>\n",
       "    <tr>\n",
       "      <th>177</th>\n",
       "      <td>334.4818</td>\n",
       "    </tr>\n",
       "    <tr>\n",
       "      <th>178</th>\n",
       "      <td>343.2199</td>\n",
       "    </tr>\n",
       "    <tr>\n",
       "      <th>179</th>\n",
       "      <td>369.1417</td>\n",
       "    </tr>\n",
       "    <tr>\n",
       "      <th>180</th>\n",
       "      <td>364.1236</td>\n",
       "    </tr>\n",
       "  </tbody>\n",
       "</table>\n",
       "<p>180 rows × 1 columns</p>\n",
       "</div>"
      ],
      "text/plain": [
       "     Reaction\n",
       "1    249.5600\n",
       "2    258.7047\n",
       "3    250.8006\n",
       "4    321.4398\n",
       "5    356.8519\n",
       "..        ...\n",
       "176  329.6076\n",
       "177  334.4818\n",
       "178  343.2199\n",
       "179  369.1417\n",
       "180  364.1236\n",
       "\n",
       "[180 rows x 1 columns]"
      ]
     },
     "execution_count": 16,
     "metadata": {},
     "output_type": "execute_result"
    }
   ],
   "source": [
    "my_df[['Reaction']]"
   ]
  },
  {
   "cell_type": "code",
   "execution_count": 18,
   "id": "5111bd82",
   "metadata": {},
   "outputs": [
    {
     "data": {
      "text/plain": [
       "pandas.core.series.Series"
      ]
     },
     "execution_count": 18,
     "metadata": {},
     "output_type": "execute_result"
    }
   ],
   "source": [
    "type(my_df['Reaction'])"
   ]
  },
  {
   "cell_type": "code",
   "execution_count": 19,
   "id": "1a626388",
   "metadata": {},
   "outputs": [
    {
     "data": {
      "text/plain": [
       "pandas.core.frame.DataFrame"
      ]
     },
     "execution_count": 19,
     "metadata": {},
     "output_type": "execute_result"
    }
   ],
   "source": [
    "type(my_df[['Reaction']])"
   ]
  },
  {
   "cell_type": "code",
   "execution_count": 20,
   "id": "0c5dccf9",
   "metadata": {},
   "outputs": [
    {
     "data": {
      "text/plain": [
       "1    249.5600\n",
       "2    258.7047\n",
       "3    250.8006\n",
       "4    321.4398\n",
       "5    356.8519\n",
       "Name: Reaction, dtype: float64"
      ]
     },
     "execution_count": 20,
     "metadata": {},
     "output_type": "execute_result"
    }
   ],
   "source": [
    "my_series.head()"
   ]
  },
  {
   "cell_type": "markdown",
   "id": "0555c104",
   "metadata": {},
   "source": [
    "## Pandas data Types\n",
    "Data types you will see in series ans daraframes:\n",
    "  * Int: integer, whole number values\n",
    "  * float: decimal numbers\n",
    "  * bool: true or false values\n",
    "  * object: strings\n",
    "  * category: a fixed set of string values\n",
    "  * a name, an optional human-friendly name for the series\n",
    "  \n",
    "There are 2 ways a new series gets it data type...\n",
    "\n",
    "  1. Inference of data type\n",
    "  2. Assignment of data type"
   ]
  },
  {
   "cell_type": "code",
   "execution_count": 21,
   "id": "69a3d85a",
   "metadata": {},
   "outputs": [
    {
     "data": {
      "text/plain": [
       "0     True\n",
       "1    False\n",
       "2     True\n",
       "dtype: bool"
      ]
     },
     "execution_count": 21,
     "metadata": {},
     "output_type": "execute_result"
    }
   ],
   "source": [
    "pd.Series([True, False, True])"
   ]
  },
  {
   "cell_type": "code",
   "execution_count": 22,
   "id": "1988ec3d",
   "metadata": {},
   "outputs": [
    {
     "data": {
      "text/plain": [
       "0         I\n",
       "1      Love\n",
       "2    Codeup\n",
       "dtype: object"
      ]
     },
     "execution_count": 22,
     "metadata": {},
     "output_type": "execute_result"
    }
   ],
   "source": [
    "pd.Series(['I', 'Love', 'Codeup'])"
   ]
  },
  {
   "cell_type": "code",
   "execution_count": 23,
   "id": "0324535d",
   "metadata": {},
   "outputs": [],
   "source": [
    "my_series = pd.Series([1, 3, 'Five'])"
   ]
  },
  {
   "cell_type": "code",
   "execution_count": 24,
   "id": "1ab890a9",
   "metadata": {},
   "outputs": [
    {
     "data": {
      "text/plain": [
       "pandas.core.series.Series"
      ]
     },
     "execution_count": 24,
     "metadata": {},
     "output_type": "execute_result"
    }
   ],
   "source": [
    "type(my_series)"
   ]
  },
  {
   "cell_type": "code",
   "execution_count": 25,
   "id": "87269ce1",
   "metadata": {},
   "outputs": [
    {
     "data": {
      "text/plain": [
       "0       1\n",
       "1       3\n",
       "2    Five\n",
       "dtype: object"
      ]
     },
     "execution_count": 25,
     "metadata": {},
     "output_type": "execute_result"
    }
   ],
   "source": [
    "my_series"
   ]
  },
  {
   "cell_type": "code",
   "execution_count": 27,
   "id": "4adf3a9e",
   "metadata": {},
   "outputs": [],
   "source": [
    "s1 = my_df.Days"
   ]
  },
  {
   "cell_type": "code",
   "execution_count": 28,
   "id": "d18b17d8",
   "metadata": {},
   "outputs": [
    {
     "data": {
      "text/plain": [
       "1      0\n",
       "2      1\n",
       "3      2\n",
       "4      3\n",
       "5      4\n",
       "      ..\n",
       "176    5\n",
       "177    6\n",
       "178    7\n",
       "179    8\n",
       "180    9\n",
       "Name: Days, Length: 180, dtype: int64"
      ]
     },
     "execution_count": 28,
     "metadata": {},
     "output_type": "execute_result"
    }
   ],
   "source": [
    "s1 "
   ]
  },
  {
   "cell_type": "code",
   "execution_count": 29,
   "id": "5400e039",
   "metadata": {},
   "outputs": [
    {
     "data": {
      "text/plain": [
       "1      0.0\n",
       "2      0.5\n",
       "3      1.0\n",
       "4      1.5\n",
       "5      2.0\n",
       "      ... \n",
       "176    2.5\n",
       "177    3.0\n",
       "178    3.5\n",
       "179    4.0\n",
       "180    4.5\n",
       "Name: Days, Length: 180, dtype: float64"
      ]
     },
     "execution_count": 29,
     "metadata": {},
     "output_type": "execute_result"
    }
   ],
   "source": [
    "s1/2"
   ]
  },
  {
   "cell_type": "code",
   "execution_count": 30,
   "id": "602ca38c",
   "metadata": {},
   "outputs": [
    {
     "ename": "ValueError",
     "evalue": "The truth value of a Series is ambiguous. Use a.empty, a.bool(), a.item(), a.any() or a.all().",
     "output_type": "error",
     "traceback": [
      "\u001b[0;31m---------------------------------------------------------------------------\u001b[0m",
      "\u001b[0;31mValueError\u001b[0m                                Traceback (most recent call last)",
      "Input \u001b[0;32mIn [30]\u001b[0m, in \u001b[0;36m<cell line: 1>\u001b[0;34m()\u001b[0m\n\u001b[0;32m----> 1\u001b[0m (s1\u001b[38;5;241m/\u001b[39m\u001b[38;5;241m2\u001b[39m) \u001b[38;5;129;01mand\u001b[39;00m (s1\u001b[38;5;241m%\u001b[39m\u001b[38;5;241m2\u001b[39m\u001b[38;5;241m==\u001b[39m\u001b[38;5;241m0\u001b[39m)\n",
      "File \u001b[0;32m/opt/homebrew/anaconda3/lib/python3.9/site-packages/pandas/core/generic.py:1527\u001b[0m, in \u001b[0;36mNDFrame.__nonzero__\u001b[0;34m(self)\u001b[0m\n\u001b[1;32m   1525\u001b[0m \u001b[38;5;129m@final\u001b[39m\n\u001b[1;32m   1526\u001b[0m \u001b[38;5;28;01mdef\u001b[39;00m \u001b[38;5;21m__nonzero__\u001b[39m(\u001b[38;5;28mself\u001b[39m):\n\u001b[0;32m-> 1527\u001b[0m     \u001b[38;5;28;01mraise\u001b[39;00m \u001b[38;5;167;01mValueError\u001b[39;00m(\n\u001b[1;32m   1528\u001b[0m         \u001b[38;5;124mf\u001b[39m\u001b[38;5;124m\"\u001b[39m\u001b[38;5;124mThe truth value of a \u001b[39m\u001b[38;5;132;01m{\u001b[39;00m\u001b[38;5;28mtype\u001b[39m(\u001b[38;5;28mself\u001b[39m)\u001b[38;5;241m.\u001b[39m\u001b[38;5;18m__name__\u001b[39m\u001b[38;5;132;01m}\u001b[39;00m\u001b[38;5;124m is ambiguous. \u001b[39m\u001b[38;5;124m\"\u001b[39m\n\u001b[1;32m   1529\u001b[0m         \u001b[38;5;124m\"\u001b[39m\u001b[38;5;124mUse a.empty, a.bool(), a.item(), a.any() or a.all().\u001b[39m\u001b[38;5;124m\"\u001b[39m\n\u001b[1;32m   1530\u001b[0m     )\n",
      "\u001b[0;31mValueError\u001b[0m: The truth value of a Series is ambiguous. Use a.empty, a.bool(), a.item(), a.any() or a.all()."
     ]
    }
   ],
   "source": [
    "(s1/2) and (s1%2==0)"
   ]
  },
  {
   "cell_type": "code",
   "execution_count": 31,
   "id": "5e35ed84",
   "metadata": {},
   "outputs": [
    {
     "data": {
      "text/plain": [
       "1    0\n",
       "2    1\n",
       "3    2\n",
       "4    3\n",
       "5    4\n",
       "Name: Days, dtype: int64"
      ]
     },
     "execution_count": 31,
     "metadata": {},
     "output_type": "execute_result"
    }
   ],
   "source": [
    "s1.head()"
   ]
  },
  {
   "cell_type": "code",
   "execution_count": 32,
   "id": "03f91466",
   "metadata": {},
   "outputs": [],
   "source": [
    "s2 = my_df.Reaction"
   ]
  },
  {
   "cell_type": "code",
   "execution_count": 33,
   "id": "03cd9197",
   "metadata": {},
   "outputs": [
    {
     "data": {
      "text/plain": [
       "count    180.000000\n",
       "mean     298.507892\n",
       "std       56.328757\n",
       "min      194.332200\n",
       "25%      255.375825\n",
       "50%      288.650800\n",
       "75%      336.752075\n",
       "max      466.353500\n",
       "Name: Reaction, dtype: float64"
      ]
     },
     "execution_count": 33,
     "metadata": {},
     "output_type": "execute_result"
    }
   ],
   "source": [
    "s2.describe()"
   ]
  },
  {
   "cell_type": "code",
   "execution_count": 34,
   "id": "43f7c0cb",
   "metadata": {},
   "outputs": [
    {
     "data": {
      "text/plain": [
       "336.752075"
      ]
     },
     "execution_count": 34,
     "metadata": {},
     "output_type": "execute_result"
    }
   ],
   "source": [
    "s2.describe()['75%']"
   ]
  },
  {
   "cell_type": "code",
   "execution_count": 35,
   "id": "4099d746",
   "metadata": {},
   "outputs": [],
   "source": [
    "q3 = s2.describe()['75%']"
   ]
  },
  {
   "cell_type": "code",
   "execution_count": 36,
   "id": "c8937e46",
   "metadata": {},
   "outputs": [
    {
     "data": {
      "text/plain": [
       "5      356.8519\n",
       "6      414.6901\n",
       "7      382.2038\n",
       "9      430.5853\n",
       "10     466.3535\n",
       "40     354.0487\n",
       "50     371.5811\n",
       "57     454.1619\n",
       "58     346.8311\n",
       "66     338.1665\n",
       "68     348.8399\n",
       "70     362.0428\n",
       "80     377.2990\n",
       "94     346.1222\n",
       "95     365.7324\n",
       "96     391.8385\n",
       "97     404.2601\n",
       "98     416.6923\n",
       "99     455.8643\n",
       "100    458.9167\n",
       "110    351.6451\n",
       "117    379.4445\n",
       "118    362.9184\n",
       "119    394.4872\n",
       "120    389.0527\n",
       "130    347.5655\n",
       "134    346.8555\n",
       "135    348.7402\n",
       "136    352.8287\n",
       "137    354.4266\n",
       "138    360.4326\n",
       "139    375.6406\n",
       "140    388.5417\n",
       "148    348.1229\n",
       "149    340.2800\n",
       "150    366.5131\n",
       "156    344.1937\n",
       "158    347.5855\n",
       "159    365.1630\n",
       "160    372.2288\n",
       "169    350.7807\n",
       "170    369.4692\n",
       "178    343.2199\n",
       "179    369.1417\n",
       "180    364.1236\n",
       "Name: Reaction, dtype: float64"
      ]
     },
     "execution_count": 36,
     "metadata": {},
     "output_type": "execute_result"
    }
   ],
   "source": [
    "s2[s2 > q3]"
   ]
  },
  {
   "cell_type": "code",
   "execution_count": 37,
   "id": "98a02c36",
   "metadata": {},
   "outputs": [
    {
     "data": {
      "text/plain": [
       "1     -48.947892\n",
       "2     -39.803192\n",
       "3     -47.707292\n",
       "4      22.931908\n",
       "5      58.344008\n",
       "         ...    \n",
       "176    31.099708\n",
       "177    35.973908\n",
       "178    44.712008\n",
       "179    70.633808\n",
       "180    65.615708\n",
       "Name: Reaction, Length: 180, dtype: float64"
      ]
     },
     "execution_count": 37,
     "metadata": {},
     "output_type": "execute_result"
    }
   ],
   "source": [
    "s2z = s2 - s2.mean()\n",
    "s2z"
   ]
  },
  {
   "cell_type": "code",
   "execution_count": 38,
   "id": "2d70d2f8",
   "metadata": {},
   "outputs": [
    {
     "data": {
      "text/plain": [
       "1     -0.868968\n",
       "2     -0.706623\n",
       "3     -0.846944\n",
       "4      0.407108\n",
       "5      1.035777\n",
       "         ...   \n",
       "176    0.552111\n",
       "177    0.638642\n",
       "178    0.793769\n",
       "179    1.253956\n",
       "180    1.164871\n",
       "Name: Reaction, Length: 180, dtype: float64"
      ]
     },
     "execution_count": 38,
     "metadata": {},
     "output_type": "execute_result"
    }
   ],
   "source": [
    "s2z = s2z / s2.std()\n",
    "s2z"
   ]
  },
  {
   "cell_type": "code",
   "execution_count": 42,
   "id": "aa4c1bd5",
   "metadata": {},
   "outputs": [
    {
     "data": {
      "text/plain": [
       "False"
      ]
     },
     "execution_count": 42,
     "metadata": {},
     "output_type": "execute_result"
    }
   ],
   "source": [
    "s2z[s2z > 3].any()"
   ]
  },
  {
   "cell_type": "code",
   "execution_count": 43,
   "id": "2dcf134c",
   "metadata": {},
   "outputs": [
    {
     "data": {
      "text/plain": [
       "(-1.8494228700103197, 2.979749898620414)"
      ]
     },
     "execution_count": 43,
     "metadata": {},
     "output_type": "execute_result"
    }
   ],
   "source": [
    "s2z.min(), s2z.max() "
   ]
  },
  {
   "cell_type": "code",
   "execution_count": 44,
   "id": "e6b589a7",
   "metadata": {},
   "outputs": [
    {
     "data": {
      "text/plain": [
       "4.83"
      ]
     },
     "execution_count": 44,
     "metadata": {},
     "output_type": "execute_result"
    }
   ],
   "source": [
    "round((s2z.max() - s2z.min()), 2)"
   ]
  },
  {
   "cell_type": "code",
   "execution_count": 45,
   "id": "29957e20",
   "metadata": {},
   "outputs": [
    {
     "data": {
      "text/plain": [
       "1      (-1.854, -0.642]\n",
       "2      (-1.854, -0.642]\n",
       "3      (-1.854, -0.642]\n",
       "4       (-0.642, 0.565]\n",
       "5        (0.565, 1.772]\n",
       "             ...       \n",
       "176     (-0.642, 0.565]\n",
       "177      (0.565, 1.772]\n",
       "178      (0.565, 1.772]\n",
       "179      (0.565, 1.772]\n",
       "180      (0.565, 1.772]\n",
       "Name: Reaction, Length: 180, dtype: category\n",
       "Categories (4, interval[float64, right]): [(-1.854, -0.642] < (-0.642, 0.565] < (0.565, 1.772] < (1.772, 2.98]]"
      ]
     },
     "execution_count": 45,
     "metadata": {},
     "output_type": "execute_result"
    }
   ],
   "source": [
    "s2z_bins = pd.cut(s2z, 4)\n",
    "s2z_bins"
   ]
  },
  {
   "cell_type": "code",
   "execution_count": 47,
   "id": "600a6b04",
   "metadata": {},
   "outputs": [
    {
     "data": {
      "image/png": "[encoded data removed]",
      "text/plain": [
       "<Figure size 432x288 with 1 Axes>"
      ]
     },
     "metadata": {
      "needs_background": "light"
     },
     "output_type": "display_data"
    }
   ],
   "source": [
    "import matplotlib.pyplot as plt\n",
    "plt.hist(s2z)\n",
    "plt.show()"
   ]
  },
  {
   "cell_type": "code",
   "execution_count": 57,
   "id": "6344e0dc",
   "metadata": {},
   "outputs": [
    {
     "data": {
      "text/plain": [
       "<AxesSubplot:>"
      ]
     },
     "execution_count": 57,
     "metadata": {},
     "output_type": "execute_result"
    },
    {
     "data": {
      "image/png": "[encoded data removed]",
      "text/plain": [
       "<Figure size 432x288 with 1 Axes>"
      ]
     },
     "metadata": {
      "needs_background": "light"
     },
     "output_type": "display_data"
    }
   ],
   "source": [
    "s2z_bins.value_counts().plot()\n",
    "# plt.show()"
   ]
  },
  {
   "cell_type": "code",
   "execution_count": 52,
   "id": "41440ef4",
   "metadata": {},
   "outputs": [
    {
     "data": {
      "text/plain": [
       "<AxesSubplot:>"
      ]
     },
     "execution_count": 52,
     "metadata": {},
     "output_type": "execute_result"
    },
    {
     "data": {
      "image/png": "[encoded data removed]",
      "text/plain": [
       "<Figure size 432x288 with 1 Axes>"
      ]
     },
     "metadata": {
      "needs_background": "light"
     },
     "output_type": "display_data"
    }
   ],
   "source": [
    "s2z.plot()"
   ]
  },
  {
   "cell_type": "code",
   "execution_count": 53,
   "id": "f4bab395",
   "metadata": {},
   "outputs": [
    {
     "data": {
      "text/plain": [
       "1     -0.868968\n",
       "2     -0.706623\n",
       "3     -0.846944\n",
       "4      0.407108\n",
       "5      1.035777\n",
       "         ...   \n",
       "176    0.552111\n",
       "177    0.638642\n",
       "178    0.793769\n",
       "179    1.253956\n",
       "180    1.164871\n",
       "Name: Reaction, Length: 180, dtype: float64"
      ]
     },
     "execution_count": 53,
     "metadata": {},
     "output_type": "execute_result"
    }
   ],
   "source": [
    "s2z"
   ]
  },
  {
   "cell_type": "code",
   "execution_count": 54,
   "id": "ca6a0687",
   "metadata": {},
   "outputs": [
    {
     "data": {
      "text/plain": [
       "1      249.5600\n",
       "2      258.7047\n",
       "3      250.8006\n",
       "4      321.4398\n",
       "5      356.8519\n",
       "         ...   \n",
       "176    329.6076\n",
       "177    334.4818\n",
       "178    343.2199\n",
       "179    369.1417\n",
       "180    364.1236\n",
       "Name: Reaction, Length: 180, dtype: float64"
      ]
     },
     "execution_count": 54,
     "metadata": {},
     "output_type": "execute_result"
    }
   ],
   "source": [
    "s2"
   ]
  },
  {
   "cell_type": "code",
   "execution_count": 55,
   "id": "fece3c37",
   "metadata": {},
   "outputs": [
    {
     "data": {
      "text/plain": [
       "-0.868968    1\n",
       "-0.763035    1\n",
       " 0.554190    1\n",
       " 1.436861    1\n",
       " 1.143475    1\n",
       "            ..\n",
       "-0.158940    1\n",
       "-0.385924    1\n",
       " 0.023111    1\n",
       "-0.023734    1\n",
       " 1.164871    1\n",
       "Name: Reaction, Length: 180, dtype: int64"
      ]
     },
     "execution_count": 55,
     "metadata": {},
     "output_type": "execute_result"
    }
   ],
   "source": [
    "s2z.value_counts()"
   ]
  },
  {
   "cell_type": "code",
   "execution_count": 56,
   "id": "d0571448",
   "metadata": {},
   "outputs": [
    {
     "data": {
      "text/plain": [
       "1      (-0.884, -0.401]\n",
       "2      (-0.884, -0.401]\n",
       "3      (-0.884, -0.401]\n",
       "4       (0.0822, 0.565]\n",
       "5        (0.565, 1.048]\n",
       "             ...       \n",
       "176     (0.0822, 0.565]\n",
       "177      (0.565, 1.048]\n",
       "178      (0.565, 1.048]\n",
       "179      (1.048, 1.531]\n",
       "180      (1.048, 1.531]\n",
       "Name: Reaction, Length: 180, dtype: category\n",
       "Categories (10, interval[float64, right]): [(-1.854, -1.367] < (-1.367, -0.884] < (-0.884, -0.401] < (-0.401, 0.0822] ... (1.048, 1.531] < (1.531, 2.014] < (2.014, 2.497] < (2.497, 2.98]]"
      ]
     },
     "execution_count": 56,
     "metadata": {},
     "output_type": "execute_result"
    }
   ],
   "source": [
    "s2z_bins = pd.cut(s2z, 10)\n",
    "s2z_bins"
   ]
  },
  {
   "cell_type": "code",
   "execution_count": null,
   "id": "64459eb8",
   "metadata": {},
   "outputs": [],
   "source": []
  },
  {
   "cell_type": "code",
   "execution_count": null,
   "id": "5ac51a07",
   "metadata": {},
   "outputs": [],
   "source": []
  },
  {
   "cell_type": "code",
   "execution_count": null,
   "id": "d967b5be",
   "metadata": {},
   "outputs": [],
   "source": []
  }
 ],
 "metadata": {
  "kernelspec": {
   "display_name": "Python 3 (ipykernel)",
   "language": "python",
   "name": "python3"
  },
  "language_info": {
   "codemirror_mode": {
    "name": "ipython",
    "version": 3
   },
   "file_extension": ".py",
   "mimetype": "text/x-python",
   "name": "python",
   "nbconvert_exporter": "python",
   "pygments_lexer": "ipython3",
   "version": "3.9.12"
  }
 },
 "nbformat": 4,
 "nbformat_minor": 5
}
