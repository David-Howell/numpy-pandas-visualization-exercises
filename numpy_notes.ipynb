{
 "cells": [
  {
   "cell_type": "markdown",
   "id": "ddc27a87",
   "metadata": {},
   "source": [
    "# What?\n",
    "  * Nympy is the findamental pacjage for scientific commputing in Python\n",
    "  * the numpy array is an n-dimensional array\n",
    "  * Numpy methods allow for fast and simple linear algebra and data processing tasks\n",
    "  \n",
    "# So What?\n",
    "  * Numpy is one of the main reasons why Python is so powerful and popular for scientific computing\n",
    "  * Super fast. Nimpy arrays are implemented in C, which makes nimpy very fast\n",
    "  * Numpy is the most popular linear algebra library for Python\n",
    "  * Provides loop_like behavior w/o the overhead of loops or list comprehension (vectorized operations)\n",
    "  * Provides list + loop + conditional behavior for filltering arrays\n",
    "  \n",
    "# Now What?\n",
    "\n",
    "  * Start working with numpy arrays! np.array([1, 2, 3]) to create an array\n",
    "  * We'll start ising buolt-in numpy functions all the time:\n",
    "      * min, mac, mean, sum, std\n",
    "      * np.median\n",
    "  * Learn to use some vectorized operations\n",
    "  * Learn how to create arrays of booleans to filter results\n",
    "  "
   ]
  },
  {
   "cell_type": "code",
   "execution_count": 1,
   "id": "46700c38",
   "metadata": {},
   "outputs": [],
   "source": [
    "# import the library in order to actually use it\n",
    "\n",
    "import numpy as np\n",
    "\n",
    "# import pandas as pd"
   ]
  },
  {
   "cell_type": "code",
   "execution_count": 2,
   "id": "e86c2b0d",
   "metadata": {},
   "outputs": [
    {
     "name": "stderr",
     "output_type": "stream",
     "text": [
      "UsageError: %%timeit is a cell magic, but the cell body is empty. Did you mean the line magic %timeit (single %)?\n"
     ]
    }
   ],
   "source": [
    "%%timeit"
   ]
  },
  {
   "cell_type": "code",
   "execution_count": 3,
   "id": "95a775b1",
   "metadata": {},
   "outputs": [
    {
     "name": "stdout",
     "output_type": "stream",
     "text": [
      "210 ms ± 1.8 ms per loop (mean ± std. dev. of 7 runs, 1 loop each)\n"
     ]
    }
   ],
   "source": [
    "%%timeit\n",
    "[x ** 2 for x in range(1, 1_000_001)]"
   ]
  },
  {
   "cell_type": "code",
   "execution_count": 101,
   "id": "6f90d336",
   "metadata": {},
   "outputs": [
    {
     "name": "stdout",
     "output_type": "stream",
     "text": [
      "1.03 ms ± 119 µs per loop (mean ± std. dev. of 7 runs, 1,000 loops each)\n"
     ]
    }
   ],
   "source": [
    "%%timeit\n",
    "# numpy equivalent:\n",
    "# make a numpy array from on to a million,\n",
    "# take that whole thing, square it\n",
    "\n",
    "np.arange(1, 1_000_001) ** 2"
   ]
  },
  {
   "cell_type": "markdown",
   "id": "d961e6b6",
   "metadata": {},
   "source": [
    "# Getting Started\n",
    "  * The np.array method converts iterables and collections into numpy arrays\n",
    "  * The numpy array is n-dimensional, which means it's flexible."
   ]
  },
  {
   "cell_type": "code",
   "execution_count": 5,
   "id": "e32be856",
   "metadata": {},
   "outputs": [
    {
     "data": {
      "text/plain": [
       "(array([1, 2, 3, 4, 5]), numpy.ndarray)"
      ]
     },
     "execution_count": 5,
     "metadata": {},
     "output_type": "execute_result"
    }
   ],
   "source": [
    "# Let's make our first numpy array\n",
    "# maka list x\n",
    "x = [1, 2, 3, 4, 5]\n",
    "x = np.array(x)\n",
    "x, type(x)"
   ]
  },
  {
   "cell_type": "code",
   "execution_count": 6,
   "id": "18785650",
   "metadata": {},
   "outputs": [
    {
     "ename": "AttributeError",
     "evalue": "'list' object has no attribute 'shape'",
     "output_type": "error",
     "traceback": [
      "\u001b[0;31m---------------------------------------------------------------------------\u001b[0m",
      "\u001b[0;31mAttributeError\u001b[0m                            Traceback (most recent call last)",
      "Input \u001b[0;32mIn [6]\u001b[0m, in \u001b[0;36m<cell line: 2>\u001b[0;34m()\u001b[0m\n\u001b[1;32m      1\u001b[0m y \u001b[38;5;241m=\u001b[39m [\u001b[38;5;241m1\u001b[39m, \u001b[38;5;241m2\u001b[39m, \u001b[38;5;241m3\u001b[39m, \u001b[38;5;241m4\u001b[39m, \u001b[38;5;241m5\u001b[39m]\n\u001b[0;32m----> 2\u001b[0m \u001b[43my\u001b[49m\u001b[38;5;241;43m.\u001b[39;49m\u001b[43mshape\u001b[49m\n",
      "\u001b[0;31mAttributeError\u001b[0m: 'list' object has no attribute 'shape'"
     ]
    }
   ],
   "source": [
    "y = [1, 2, 3, 4, 5]\n",
    "y.shape"
   ]
  },
  {
   "cell_type": "code",
   "execution_count": 7,
   "id": "d6dc6a83",
   "metadata": {},
   "outputs": [
    {
     "data": {
      "text/plain": [
       "(5,)"
      ]
     },
     "execution_count": 7,
     "metadata": {},
     "output_type": "execute_result"
    }
   ],
   "source": [
    "x.shape"
   ]
  },
  {
   "cell_type": "markdown",
   "id": "eda78baa",
   "metadata": {},
   "source": [
    "the np.array method converts Python collections into numpy arrays of the appropriate dimension"
   ]
  },
  {
   "cell_type": "code",
   "execution_count": 8,
   "id": "ab33d20f",
   "metadata": {},
   "outputs": [],
   "source": [
    "matrix = np.array([\n",
    "    [1, 2, 3],\n",
    "    [4, 5, 6],\n",
    "    [7, 8, 9]\n",
    "])"
   ]
  },
  {
   "cell_type": "code",
   "execution_count": 9,
   "id": "946fe560",
   "metadata": {},
   "outputs": [
    {
     "data": {
      "text/plain": [
       "numpy.ndarray"
      ]
     },
     "execution_count": 9,
     "metadata": {},
     "output_type": "execute_result"
    }
   ],
   "source": [
    "type(matrix)"
   ]
  },
  {
   "cell_type": "code",
   "execution_count": 39,
   "id": "98f603ff",
   "metadata": {},
   "outputs": [
    {
     "ename": "NameError",
     "evalue": "name 'dtype' is not defined",
     "output_type": "error",
     "traceback": [
      "\u001b[0;31m---------------------------------------------------------------------------\u001b[0m",
      "\u001b[0;31mNameError\u001b[0m                                 Traceback (most recent call last)",
      "Input \u001b[0;32mIn [39]\u001b[0m, in \u001b[0;36m<cell line: 1>\u001b[0;34m()\u001b[0m\n\u001b[0;32m----> 1\u001b[0m \u001b[43mdtype\u001b[49m(matrix)\n",
      "\u001b[0;31mNameError\u001b[0m: name 'dtype' is not defined"
     ]
    }
   ],
   "source": [
    "dtype(matrix)"
   ]
  },
  {
   "cell_type": "code",
   "execution_count": 11,
   "id": "0f24f1a3",
   "metadata": {},
   "outputs": [
    {
     "data": {
      "text/plain": [
       "array([1, 2, 3])"
      ]
     },
     "execution_count": 11,
     "metadata": {},
     "output_type": "execute_result"
    }
   ],
   "source": [
    "# zero indexed\n",
    "matrix[0]"
   ]
  },
  {
   "cell_type": "code",
   "execution_count": 12,
   "id": "8d450d75",
   "metadata": {},
   "outputs": [
    {
     "data": {
      "text/plain": [
       "3"
      ]
     },
     "execution_count": 12,
     "metadata": {},
     "output_type": "execute_result"
    }
   ],
   "source": [
    "matrix[0, 2]"
   ]
  },
  {
   "cell_type": "code",
   "execution_count": null,
   "id": "65c80577",
   "metadata": {},
   "outputs": [],
   "source": [
    "# axes: [row, col]\n",
    "# pneumonic...\n",
    "# r0ws, co1s"
   ]
  },
  {
   "cell_type": "code",
   "execution_count": 14,
   "id": "d6accf0d",
   "metadata": {},
   "outputs": [
    {
     "data": {
      "text/plain": [
       "array([1, 2, 3])"
      ]
     },
     "execution_count": 14,
     "metadata": {},
     "output_type": "execute_result"
    }
   ],
   "source": [
    "first_row = matrix[0]\n",
    "first_row"
   ]
  },
  {
   "cell_type": "code",
   "execution_count": 15,
   "id": "44a75649",
   "metadata": {},
   "outputs": [
    {
     "data": {
      "text/plain": [
       "array([1, 2, 3, 4, 5])"
      ]
     },
     "execution_count": 15,
     "metadata": {},
     "output_type": "execute_result"
    }
   ],
   "source": [
    "x"
   ]
  },
  {
   "cell_type": "code",
   "execution_count": 16,
   "id": "c210a9d4",
   "metadata": {},
   "outputs": [
    {
     "data": {
      "text/plain": [
       "array([1, 2, 3])"
      ]
     },
     "execution_count": 16,
     "metadata": {},
     "output_type": "execute_result"
    }
   ],
   "source": [
    "x[0:3]"
   ]
  },
  {
   "cell_type": "code",
   "execution_count": 17,
   "id": "bfb450a7",
   "metadata": {},
   "outputs": [
    {
     "data": {
      "text/plain": [
       "array([ 1,  2,  3,  4,  5,  6,  7,  8,  9, 10, 11, 12, 13, 14, 15, 16, 17,\n",
       "       18, 19, 20, 21, 22, 23, 24, 25, 26, 27, 28, 29, 30, 31, 32, 33, 34,\n",
       "       35, 36, 37, 38, 39, 40, 41, 42, 43, 44, 45, 46, 47, 48, 49, 50, 51,\n",
       "       52, 53, 54, 55, 56, 57, 58, 59, 60, 61, 62, 63, 64, 65, 66, 67, 68,\n",
       "       69, 70, 71, 72, 73, 74, 75, 76, 77, 78, 79, 80, 81, 82, 83, 84, 85,\n",
       "       86, 87, 88, 89, 90, 91, 92, 93, 94, 95, 96, 97, 98, 99])"
      ]
     },
     "execution_count": 17,
     "metadata": {},
     "output_type": "execute_result"
    }
   ],
   "source": [
    "a = np.array(range(1, 100))\n",
    "a"
   ]
  },
  {
   "cell_type": "code",
   "execution_count": 18,
   "id": "352c8e7f",
   "metadata": {},
   "outputs": [
    {
     "data": {
      "text/plain": [
       "(4950, 50.0, 1, 99, 28.577380332470412)"
      ]
     },
     "execution_count": 18,
     "metadata": {},
     "output_type": "execute_result"
    }
   ],
   "source": [
    "a.sum(), a.mean(), a.min(), a.max(), a.std()"
   ]
  },
  {
   "cell_type": "code",
   "execution_count": 19,
   "id": "e040b2dd",
   "metadata": {},
   "outputs": [
    {
     "data": {
      "text/plain": [
       "50.0"
      ]
     },
     "execution_count": 19,
     "metadata": {},
     "output_type": "execute_result"
    }
   ],
   "source": [
    "np.median(a)"
   ]
  },
  {
   "cell_type": "code",
   "execution_count": 20,
   "id": "caa8c318",
   "metadata": {},
   "outputs": [],
   "source": [
    "# true and false assertions\n",
    "smalllist = [1, 3, 5]\n",
    "newlist = []\n",
    "for el in smalllist:\n",
    "    if el in (1, 5):\n",
    "        newlist.append(el)"
   ]
  },
  {
   "cell_type": "code",
   "execution_count": 21,
   "id": "e9919e3d",
   "metadata": {},
   "outputs": [
    {
     "data": {
      "text/plain": [
       "[1, 5]"
      ]
     },
     "execution_count": 21,
     "metadata": {},
     "output_type": "execute_result"
    }
   ],
   "source": [
    "newlist"
   ]
  },
  {
   "cell_type": "code",
   "execution_count": null,
   "id": "143c2e42",
   "metadata": {},
   "outputs": [],
   "source": [
    "#  [True, False, True]\n",
    "# boolean mask that tells us which ones are true or false"
   ]
  },
  {
   "cell_type": "code",
   "execution_count": 23,
   "id": "5d7e464d",
   "metadata": {},
   "outputs": [],
   "source": [
    "b = np.array([2, 3, 4, 5])\n",
    "should_include_elements = np.array([False, True, False, True])"
   ]
  },
  {
   "cell_type": "code",
   "execution_count": 24,
   "id": "a09aeb7a",
   "metadata": {},
   "outputs": [
    {
     "data": {
      "text/plain": [
       "array([False,  True, False,  True])"
      ]
     },
     "execution_count": 24,
     "metadata": {},
     "output_type": "execute_result"
    }
   ],
   "source": [
    "should_include_elements"
   ]
  },
  {
   "cell_type": "code",
   "execution_count": 25,
   "id": "6660f2e5",
   "metadata": {},
   "outputs": [],
   "source": [
    "# how do i apply this\n",
    "\n",
    "# my thing   => b\n",
    "# where      => [\n",
    "# condition is true => should_include_elements"
   ]
  },
  {
   "cell_type": "code",
   "execution_count": 26,
   "id": "f7b7966b",
   "metadata": {},
   "outputs": [
    {
     "data": {
      "text/plain": [
       "array([3, 5])"
      ]
     },
     "execution_count": 26,
     "metadata": {},
     "output_type": "execute_result"
    }
   ],
   "source": [
    "b[should_include_elements]"
   ]
  },
  {
   "cell_type": "code",
   "execution_count": 28,
   "id": "09086b21",
   "metadata": {},
   "outputs": [
    {
     "data": {
      "text/plain": [
       "array([[4, 5, 6],\n",
       "       [7, 8, 9]])"
      ]
     },
     "execution_count": 28,
     "metadata": {},
     "output_type": "execute_result"
    }
   ],
   "source": [
    "should_include_elements = np.array([False, True, True])\n",
    "matrix[should_include_elements]"
   ]
  },
  {
   "cell_type": "markdown",
   "id": "48d63b98",
   "metadata": {},
   "source": [
    "# Arrays of Booleans == Beating Heart of Filterin/Transforming Arrays\n",
    "  * This is how we can do loop-like stuff w/o loops\n",
    "  * This 'spell' is called 'Boolean Masking' and folks may 'array filtering' or 'indexing'"
   ]
  },
  {
   "cell_type": "code",
   "execution_count": 31,
   "id": "a57c899d",
   "metadata": {},
   "outputs": [],
   "source": [
    "# pep8:\n",
    "# typical structure:\n",
    "# spaces between elements,\n",
    "# spaces between assignments var = thing_into_var\n",
    "# ^not when you are denoting arguments in a function\n",
    "# x = 5\n",
    "# my_funct(x=5)"
   ]
  },
  {
   "cell_type": "code",
   "execution_count": 29,
   "id": "e04262f7",
   "metadata": {},
   "outputs": [],
   "source": [
    "x = np.array([1, 2, 3, 4,5])"
   ]
  },
  {
   "cell_type": "code",
   "execution_count": 30,
   "id": "a2360ba7",
   "metadata": {},
   "outputs": [
    {
     "data": {
      "text/plain": [
       "array([False, False,  True, False, False])"
      ]
     },
     "execution_count": 30,
     "metadata": {},
     "output_type": "execute_result"
    }
   ],
   "source": [
    "x == 3"
   ]
  },
  {
   "cell_type": "code",
   "execution_count": 32,
   "id": "c83c1a62",
   "metadata": {},
   "outputs": [
    {
     "data": {
      "text/plain": [
       "False"
      ]
     },
     "execution_count": 32,
     "metadata": {},
     "output_type": "execute_result"
    }
   ],
   "source": [
    "smalllist == 3"
   ]
  },
  {
   "cell_type": "code",
   "execution_count": 34,
   "id": "f5e9521d",
   "metadata": {},
   "outputs": [
    {
     "data": {
      "text/plain": [
       "array([False, False, False, False, False])"
      ]
     },
     "execution_count": 34,
     "metadata": {},
     "output_type": "execute_result"
    }
   ],
   "source": [
    "x < -9"
   ]
  },
  {
   "cell_type": "code",
   "execution_count": 36,
   "id": "f2f5f8b2",
   "metadata": {},
   "outputs": [
    {
     "data": {
      "text/plain": [
       "array([False,  True, False,  True, False])"
      ]
     },
     "execution_count": 36,
     "metadata": {},
     "output_type": "execute_result"
    }
   ],
   "source": [
    "x % 2 == 0"
   ]
  },
  {
   "cell_type": "code",
   "execution_count": 37,
   "id": "c64ccfc3",
   "metadata": {},
   "outputs": [
    {
     "data": {
      "text/plain": [
       "array([3])"
      ]
     },
     "execution_count": 37,
     "metadata": {},
     "output_type": "execute_result"
    }
   ],
   "source": [
    "# we don't need the extra variable, however, we cando the following:\n",
    "# I read this code almost liike SQL in my head:\n",
    "# SELECT X where X is equal to 3\n",
    "x[x==3]"
   ]
  },
  {
   "cell_type": "code",
   "execution_count": 38,
   "id": "5c837313",
   "metadata": {},
   "outputs": [
    {
     "data": {
      "text/plain": [
       "array([], dtype=int64)"
      ]
     },
     "execution_count": 38,
     "metadata": {},
     "output_type": "execute_result"
    }
   ],
   "source": [
    "# SELECT X where X is less than 0\n",
    "x[x<0]"
   ]
  },
  {
   "cell_type": "code",
   "execution_count": 40,
   "id": "9d81379d",
   "metadata": {},
   "outputs": [
    {
     "data": {
      "text/plain": [
       "array([2, 4])"
      ]
     },
     "execution_count": 40,
     "metadata": {},
     "output_type": "execute_result"
    }
   ],
   "source": [
    "x[x%2==0]"
   ]
  },
  {
   "cell_type": "code",
   "execution_count": 49,
   "id": "f4b54df8",
   "metadata": {},
   "outputs": [],
   "source": [
    "# remove evens\n",
    "def remove_evens(x):\n",
    "    x = np.array(x)\n",
    "    r = x[x%2==0]\n",
    "    return r"
   ]
  },
  {
   "cell_type": "code",
   "execution_count": 50,
   "id": "a41a3756",
   "metadata": {},
   "outputs": [],
   "source": [
    "y = []\n",
    "for i in range (1,101):\n",
    "    y.append(i)\n",
    "    "
   ]
  },
  {
   "cell_type": "code",
   "execution_count": 52,
   "id": "f4c28afb",
   "metadata": {},
   "outputs": [
    {
     "data": {
      "text/plain": [
       "array([  2,   4,   6,   8,  10,  12,  14,  16,  18,  20,  22,  24,  26,\n",
       "        28,  30,  32,  34,  36,  38,  40,  42,  44,  46,  48,  50,  52,\n",
       "        54,  56,  58,  60,  62,  64,  66,  68,  70,  72,  74,  76,  78,\n",
       "        80,  82,  84,  86,  88,  90,  92,  94,  96,  98, 100])"
      ]
     },
     "execution_count": 52,
     "metadata": {},
     "output_type": "execute_result"
    }
   ],
   "source": [
    "remove_evens(y)\n"
   ]
  },
  {
   "cell_type": "code",
   "execution_count": 54,
   "id": "9744f06f",
   "metadata": {},
   "outputs": [],
   "source": [
    "# vectorized operations assert in the same way that we ituluzed coolwan masking:"
   ]
  },
  {
   "cell_type": "code",
   "execution_count": 56,
   "id": "0211c492",
   "metadata": {},
   "outputs": [
    {
     "data": {
      "text/plain": [
       "[1, 3, 5]"
      ]
     },
     "execution_count": 56,
     "metadata": {},
     "output_type": "execute_result"
    }
   ],
   "source": [
    "smalllist"
   ]
  },
  {
   "cell_type": "code",
   "execution_count": 58,
   "id": "2bed8036",
   "metadata": {},
   "outputs": [
    {
     "data": {
      "text/plain": [
       "[2, 4, 6]"
      ]
     },
     "execution_count": 58,
     "metadata": {},
     "output_type": "execute_result"
    }
   ],
   "source": [
    "[x+ 1 for x in smalllist]"
   ]
  },
  {
   "cell_type": "code",
   "execution_count": 61,
   "id": "44006c10",
   "metadata": {},
   "outputs": [
    {
     "data": {
      "text/plain": [
       "array([2, 3, 4, 5, 6])"
      ]
     },
     "execution_count": 61,
     "metadata": {},
     "output_type": "execute_result"
    }
   ],
   "source": [
    "x + 1"
   ]
  },
  {
   "cell_type": "code",
   "execution_count": 63,
   "id": "99960870",
   "metadata": {},
   "outputs": [
    {
     "data": {
      "text/plain": [
       "array([13, 12,  9,  3, 17, 16,  3, 13,  6, 15])"
      ]
     },
     "execution_count": 63,
     "metadata": {},
     "output_type": "execute_result"
    }
   ],
   "source": [
    "x = np.random.randint(1, 21, 10)\n",
    "x"
   ]
  },
  {
   "cell_type": "code",
   "execution_count": 65,
   "id": "fefd4078",
   "metadata": {},
   "outputs": [
    {
     "data": {
      "text/plain": [
       "(10,)"
      ]
     },
     "execution_count": 65,
     "metadata": {},
     "output_type": "execute_result"
    }
   ],
   "source": [
    "x.shape"
   ]
  },
  {
   "cell_type": "code",
   "execution_count": 76,
   "id": "ecbdabdf",
   "metadata": {},
   "outputs": [
    {
     "data": {
      "text/plain": [
       "array([17, 16,  9,  7, 13,  4,  9, 12,  1, 12])"
      ]
     },
     "execution_count": 76,
     "metadata": {},
     "output_type": "execute_result"
    }
   ],
   "source": [
    "x = np.random.randint(1, 21, 10)\n",
    "x"
   ]
  },
  {
   "cell_type": "code",
   "execution_count": 78,
   "id": "bd447c1f",
   "metadata": {},
   "outputs": [
    {
     "data": {
      "text/plain": [
       "[2, 3, 4]"
      ]
     },
     "execution_count": 78,
     "metadata": {},
     "output_type": "execute_result"
    }
   ],
   "source": [
    "# Leat's make Python fall on its face\n",
    "a =[1, 2, 3]\n",
    "\n",
    "# In Python, how would we add one to every item on this list?\n",
    "[n+1 for n in a]"
   ]
  },
  {
   "cell_type": "code",
   "execution_count": 83,
   "id": "b863c129",
   "metadata": {},
   "outputs": [
    {
     "data": {
      "text/plain": [
       "array([2, 3, 4])"
      ]
     },
     "execution_count": 83,
     "metadata": {},
     "output_type": "execute_result"
    }
   ],
   "source": [
    "np.array(a) +1"
   ]
  },
  {
   "cell_type": "code",
   "execution_count": 85,
   "id": "86069c7a",
   "metadata": {},
   "outputs": [
    {
     "data": {
      "text/plain": [
       "array([-17, -16,  -9,  -7, -13,  -4,  -9, -12,  -1, -12])"
      ]
     },
     "execution_count": 85,
     "metadata": {},
     "output_type": "execute_result"
    }
   ],
   "source": [
    "x - 2*x"
   ]
  },
  {
   "cell_type": "code",
   "execution_count": 88,
   "id": "cc61db81",
   "metadata": {},
   "outputs": [],
   "source": [
    "beatles = ['Ringo', 'John', 'Paul', 'George']"
   ]
  },
  {
   "cell_type": "code",
   "execution_count": 90,
   "id": "76e71c01",
   "metadata": {},
   "outputs": [],
   "source": [
    "beatles = np.array(beatles)"
   ]
  },
  {
   "cell_type": "code",
   "execution_count": 92,
   "id": "c57ebd6a",
   "metadata": {},
   "outputs": [
    {
     "data": {
      "text/plain": [
       "array([False,  True,  True,  True])"
      ]
     },
     "execution_count": 92,
     "metadata": {},
     "output_type": "execute_result"
    }
   ],
   "source": [
    "beatles != 'Ringo'"
   ]
  },
  {
   "cell_type": "code",
   "execution_count": 94,
   "id": "e1d18f1d",
   "metadata": {},
   "outputs": [
    {
     "data": {
      "text/plain": [
       "array(['John', 'Paul', 'George'], dtype='<U6')"
      ]
     },
     "execution_count": 94,
     "metadata": {},
     "output_type": "execute_result"
    }
   ],
   "source": [
    "beatles[beatles != 'Ringo']"
   ]
  },
  {
   "cell_type": "code",
   "execution_count": 96,
   "id": "2be8905d",
   "metadata": {},
   "outputs": [
    {
     "data": {
      "text/plain": [
       "array([[ 2,  4,  6],\n",
       "       [ 8, 10, 12],\n",
       "       [14, 16, 18]])"
      ]
     },
     "execution_count": 96,
     "metadata": {},
     "output_type": "execute_result"
    }
   ],
   "source": [
    "matrix * 2"
   ]
  },
  {
   "cell_type": "code",
   "execution_count": 98,
   "id": "1f6f2e96",
   "metadata": {},
   "outputs": [
    {
     "ename": "UFuncTypeError",
     "evalue": "ufunc 'multiply' did not contain a loop with signature matching types (dtype('<U6'), dtype('int64')) -> None",
     "output_type": "error",
     "traceback": [
      "\u001b[0;31m---------------------------------------------------------------------------\u001b[0m",
      "\u001b[0;31mUFuncTypeError\u001b[0m                            Traceback (most recent call last)",
      "Input \u001b[0;32mIn [98]\u001b[0m, in \u001b[0;36m<cell line: 1>\u001b[0;34m()\u001b[0m\n\u001b[0;32m----> 1\u001b[0m \u001b[43mbeatles\u001b[49m\u001b[43m \u001b[49m\u001b[38;5;241;43m*\u001b[39;49m\u001b[43m \u001b[49m\u001b[38;5;241;43m2\u001b[39;49m\n",
      "\u001b[0;31mUFuncTypeError\u001b[0m: ufunc 'multiply' did not contain a loop with signature matching types (dtype('<U6'), dtype('int64')) -> None"
     ]
    }
   ],
   "source": [
    "beatles * 2"
   ]
  },
  {
   "cell_type": "code",
   "execution_count": 99,
   "id": "7d0df44d",
   "metadata": {},
   "outputs": [
    {
     "data": {
      "text/plain": [
       "'RingoRingo'"
      ]
     },
     "execution_count": 99,
     "metadata": {},
     "output_type": "execute_result"
    }
   ],
   "source": [
    "'Ringo' * 2"
   ]
  }
 ],
 "metadata": {
  "kernelspec": {
   "display_name": "Python 3 (ipykernel)",
   "language": "python",
   "name": "python3"
  },
  "language_info": {
   "codemirror_mode": {
    "name": "ipython",
    "version": 3
   },
   "file_extension": ".py",
   "mimetype": "text/x-python",
   "name": "python",
   "nbconvert_exporter": "python",
   "pygments_lexer": "ipython3",
   "version": "3.9.12"
  }
 },
 "nbformat": 4,
 "nbformat_minor": 5
}
