{
 "cells": [
  {
   "cell_type": "code",
   "execution_count": 1,
   "id": "44a30697-2f16-4714-a0dc-96fa1e4e667f",
   "metadata": {},
   "outputs": [],
   "source": [
    "import pandas as pd\n",
    "import numpy as np\n",
    "\n",
    "np.random.seed(1349)"
   ]
  },
  {
   "cell_type": "code",
   "execution_count": 3,
   "id": "13818306-6e45-4ca3-8434-b670e60a4612",
   "metadata": {},
   "outputs": [],
   "source": [
    "df = pd.read_csv('students.csv')"
   ]
  },
  {
   "cell_type": "code",
   "execution_count": 4,
   "id": "863ffdbe-9989-4aad-9050-c6d5682675fe",
   "metadata": {},
   "outputs": [
    {
     "data": {
      "text/html": [
       "<div>\n",
       "<style scoped>\n",
       "    .dataframe tbody tr th:only-of-type {\n",
       "        vertical-align: middle;\n",
       "    }\n",
       "\n",
       "    .dataframe tbody tr th {\n",
       "        vertical-align: top;\n",
       "    }\n",
       "\n",
       "    .dataframe thead th {\n",
       "        text-align: right;\n",
       "    }\n",
       "</style>\n",
       "<table border=\"1\" class=\"dataframe\">\n",
       "  <thead>\n",
       "    <tr style=\"text-align: right;\">\n",
       "      <th></th>\n",
       "      <th>name</th>\n",
       "      <th>math</th>\n",
       "      <th>english</th>\n",
       "      <th>reading</th>\n",
       "      <th>classroom</th>\n",
       "      <th>passing_math</th>\n",
       "    </tr>\n",
       "  </thead>\n",
       "  <tbody>\n",
       "    <tr>\n",
       "      <th>0</th>\n",
       "      <td>Sally</td>\n",
       "      <td>62</td>\n",
       "      <td>85</td>\n",
       "      <td>80</td>\n",
       "      <td>A</td>\n",
       "      <td>failing</td>\n",
       "    </tr>\n",
       "    <tr>\n",
       "      <th>1</th>\n",
       "      <td>Jane</td>\n",
       "      <td>88</td>\n",
       "      <td>79</td>\n",
       "      <td>67</td>\n",
       "      <td>B</td>\n",
       "      <td>passing</td>\n",
       "    </tr>\n",
       "    <tr>\n",
       "      <th>2</th>\n",
       "      <td>Suzie</td>\n",
       "      <td>94</td>\n",
       "      <td>74</td>\n",
       "      <td>95</td>\n",
       "      <td>A</td>\n",
       "      <td>passing</td>\n",
       "    </tr>\n",
       "    <tr>\n",
       "      <th>3</th>\n",
       "      <td>Billy</td>\n",
       "      <td>98</td>\n",
       "      <td>96</td>\n",
       "      <td>88</td>\n",
       "      <td>B</td>\n",
       "      <td>passing</td>\n",
       "    </tr>\n",
       "    <tr>\n",
       "      <th>4</th>\n",
       "      <td>Ada</td>\n",
       "      <td>77</td>\n",
       "      <td>92</td>\n",
       "      <td>98</td>\n",
       "      <td>A</td>\n",
       "      <td>passing</td>\n",
       "    </tr>\n",
       "    <tr>\n",
       "      <th>5</th>\n",
       "      <td>John</td>\n",
       "      <td>79</td>\n",
       "      <td>76</td>\n",
       "      <td>93</td>\n",
       "      <td>B</td>\n",
       "      <td>passing</td>\n",
       "    </tr>\n",
       "    <tr>\n",
       "      <th>6</th>\n",
       "      <td>Thomas</td>\n",
       "      <td>82</td>\n",
       "      <td>64</td>\n",
       "      <td>81</td>\n",
       "      <td>A</td>\n",
       "      <td>passing</td>\n",
       "    </tr>\n",
       "    <tr>\n",
       "      <th>7</th>\n",
       "      <td>Marie</td>\n",
       "      <td>93</td>\n",
       "      <td>63</td>\n",
       "      <td>90</td>\n",
       "      <td>A</td>\n",
       "      <td>passing</td>\n",
       "    </tr>\n",
       "    <tr>\n",
       "      <th>8</th>\n",
       "      <td>Albert</td>\n",
       "      <td>92</td>\n",
       "      <td>62</td>\n",
       "      <td>87</td>\n",
       "      <td>A</td>\n",
       "      <td>passing</td>\n",
       "    </tr>\n",
       "    <tr>\n",
       "      <th>9</th>\n",
       "      <td>Richard</td>\n",
       "      <td>69</td>\n",
       "      <td>80</td>\n",
       "      <td>94</td>\n",
       "      <td>A</td>\n",
       "      <td>failing</td>\n",
       "    </tr>\n",
       "    <tr>\n",
       "      <th>10</th>\n",
       "      <td>Isaac</td>\n",
       "      <td>92</td>\n",
       "      <td>99</td>\n",
       "      <td>93</td>\n",
       "      <td>B</td>\n",
       "      <td>passing</td>\n",
       "    </tr>\n",
       "    <tr>\n",
       "      <th>11</th>\n",
       "      <td>Alan</td>\n",
       "      <td>92</td>\n",
       "      <td>62</td>\n",
       "      <td>72</td>\n",
       "      <td>A</td>\n",
       "      <td>passing</td>\n",
       "    </tr>\n",
       "  </tbody>\n",
       "</table>\n",
       "</div>"
      ],
      "text/plain": [
       "       name  math  english  reading classroom passing_math\n",
       "0     Sally    62       85       80         A      failing\n",
       "1      Jane    88       79       67         B      passing\n",
       "2     Suzie    94       74       95         A      passing\n",
       "3     Billy    98       96       88         B      passing\n",
       "4       Ada    77       92       98         A      passing\n",
       "5      John    79       76       93         B      passing\n",
       "6    Thomas    82       64       81         A      passing\n",
       "7     Marie    93       63       90         A      passing\n",
       "8    Albert    92       62       87         A      passing\n",
       "9   Richard    69       80       94         A      failing\n",
       "10    Isaac    92       99       93         B      passing\n",
       "11     Alan    92       62       72         A      passing"
      ]
     },
     "execution_count": 4,
     "metadata": {},
     "output_type": "execute_result"
    }
   ],
   "source": [
    "df"
   ]
  },
  {
   "cell_type": "code",
   "execution_count": 5,
   "id": "6cbcb459",
   "metadata": {},
   "outputs": [
    {
     "data": {
      "text/plain": [
       "0    failing\n",
       "1    passing\n",
       "2    passing\n",
       "3    passing\n",
       "4    passing\n",
       "Name: passing_math, dtype: object"
      ]
     },
     "execution_count": 5,
     "metadata": {},
     "output_type": "execute_result"
    }
   ],
   "source": [
    "df.passing_math.head()"
   ]
  },
  {
   "cell_type": "code",
   "execution_count": 6,
   "id": "a4e1ac6d",
   "metadata": {},
   "outputs": [
    {
     "data": {
      "text/plain": [
       "0    A\n",
       "1    B\n",
       "2    A\n",
       "3    B\n",
       "4    A\n",
       "Name: classroom, dtype: object"
      ]
     },
     "execution_count": 6,
     "metadata": {},
     "output_type": "execute_result"
    }
   ],
   "source": [
    "df.classroom.head()"
   ]
  },
  {
   "cell_type": "code",
   "execution_count": 7,
   "id": "22641a3f",
   "metadata": {},
   "outputs": [
    {
     "data": {
      "text/plain": [
       "A    8\n",
       "B    4\n",
       "Name: classroom, dtype: int64"
      ]
     },
     "execution_count": 7,
     "metadata": {},
     "output_type": "execute_result"
    }
   ],
   "source": [
    "df.classroom.value_counts()"
   ]
  },
  {
   "cell_type": "code",
   "execution_count": 8,
   "id": "6dad9828",
   "metadata": {},
   "outputs": [
    {
     "data": {
      "text/html": [
       "<div>\n",
       "<style scoped>\n",
       "    .dataframe tbody tr th:only-of-type {\n",
       "        vertical-align: middle;\n",
       "    }\n",
       "\n",
       "    .dataframe tbody tr th {\n",
       "        vertical-align: top;\n",
       "    }\n",
       "\n",
       "    .dataframe thead th {\n",
       "        text-align: right;\n",
       "    }\n",
       "</style>\n",
       "<table border=\"1\" class=\"dataframe\">\n",
       "  <thead>\n",
       "    <tr style=\"text-align: right;\">\n",
       "      <th>passing_math</th>\n",
       "      <th>failing</th>\n",
       "      <th>passing</th>\n",
       "    </tr>\n",
       "    <tr>\n",
       "      <th>classroom</th>\n",
       "      <th></th>\n",
       "      <th></th>\n",
       "    </tr>\n",
       "  </thead>\n",
       "  <tbody>\n",
       "    <tr>\n",
       "      <th>A</th>\n",
       "      <td>2</td>\n",
       "      <td>6</td>\n",
       "    </tr>\n",
       "    <tr>\n",
       "      <th>B</th>\n",
       "      <td>0</td>\n",
       "      <td>4</td>\n",
       "    </tr>\n",
       "  </tbody>\n",
       "</table>\n",
       "</div>"
      ],
      "text/plain": [
       "passing_math  failing  passing\n",
       "classroom                     \n",
       "A                   2        6\n",
       "B                   0        4"
      ]
     },
     "execution_count": 8,
     "metadata": {},
     "output_type": "execute_result"
    }
   ],
   "source": [
    "pd.crosstab(df.classroom, df.passing_math)"
   ]
  },
  {
   "cell_type": "code",
   "execution_count": null,
   "id": "35457741",
   "metadata": {},
   "outputs": [],
   "source": []
  },
  {
   "cell_type": "markdown",
   "id": "c2f9bb2e-c705-45a3-a916-e6a51e8408ee",
   "metadata": {},
   "source": [
    "## Reshaping\n",
    "\n",
    "We will talk about reshaping operations in more detail when we discuss tidy data, but for now we will focus on a couple of common operations that can be used to summarize our data by different subgroups."
   ]
  },
  {
   "cell_type": "markdown",
   "id": "26d338d6-43fd-477d-bad1-7f87457189dd",
   "metadata": {},
   "source": [
    "### `pd.crosstab`\n",
    "\n",
    "For an example of `.crosstab`, we will count the number of students passing math in each classroom."
   ]
  },
  {
   "cell_type": "code",
   "execution_count": null,
   "id": "e4f14d63-74eb-48aa-9fe1-e3dc0cd7a166",
   "metadata": {},
   "outputs": [],
   "source": [
    "#  cant do this : df.crosstab(df.passing_math, df.classroom)"
   ]
  },
  {
   "cell_type": "code",
   "execution_count": null,
   "id": "9b221fcd-3a62-40a3-93e3-bb3d78e8af75",
   "metadata": {},
   "outputs": [],
   "source": [
    "# We will use our student grades DataFrame, df.\n",
    "\n"
   ]
  },
  {
   "cell_type": "markdown",
   "id": "ef755804-a636-4b5d-8ed2-ea06de36a9cd",
   "metadata": {},
   "source": [
    "We'll use the `pd.crosstab` function to count the number of occurances of each subgroup (i.e. each unique combination of classroom and whether or not the student is passing math):"
   ]
  },
  {
   "cell_type": "code",
   "execution_count": 9,
   "id": "fb2b40dc-40df-4d81-b154-f56f9f50793a",
   "metadata": {},
   "outputs": [
    {
     "data": {
      "text/html": [
       "<div>\n",
       "<style scoped>\n",
       "    .dataframe tbody tr th:only-of-type {\n",
       "        vertical-align: middle;\n",
       "    }\n",
       "\n",
       "    .dataframe tbody tr th {\n",
       "        vertical-align: top;\n",
       "    }\n",
       "\n",
       "    .dataframe thead th {\n",
       "        text-align: right;\n",
       "    }\n",
       "</style>\n",
       "<table border=\"1\" class=\"dataframe\">\n",
       "  <thead>\n",
       "    <tr style=\"text-align: right;\">\n",
       "      <th>passing_math</th>\n",
       "      <th>failing</th>\n",
       "      <th>passing</th>\n",
       "    </tr>\n",
       "    <tr>\n",
       "      <th>classroom</th>\n",
       "      <th></th>\n",
       "      <th></th>\n",
       "    </tr>\n",
       "  </thead>\n",
       "  <tbody>\n",
       "    <tr>\n",
       "      <th>A</th>\n",
       "      <td>2</td>\n",
       "      <td>6</td>\n",
       "    </tr>\n",
       "    <tr>\n",
       "      <th>B</th>\n",
       "      <td>0</td>\n",
       "      <td>4</td>\n",
       "    </tr>\n",
       "  </tbody>\n",
       "</table>\n",
       "</div>"
      ],
      "text/plain": [
       "passing_math  failing  passing\n",
       "classroom                     \n",
       "A                   2        6\n",
       "B                   0        4"
      ]
     },
     "execution_count": 9,
     "metadata": {},
     "output_type": "execute_result"
    }
   ],
   "source": [
    "pd.crosstab(df.classroom, df.passing_math)"
   ]
  },
  {
   "cell_type": "markdown",
   "id": "2d5cf129-32d8-4c40-b763-aeec8509b467",
   "metadata": {},
   "source": [
    "We can also view subtotals with the `margins` set to `True`."
   ]
  },
  {
   "cell_type": "code",
   "execution_count": 10,
   "id": "d7cb6533-fa68-4014-a09e-453f409db05f",
   "metadata": {},
   "outputs": [
    {
     "data": {
      "text/html": [
       "<div>\n",
       "<style scoped>\n",
       "    .dataframe tbody tr th:only-of-type {\n",
       "        vertical-align: middle;\n",
       "    }\n",
       "\n",
       "    .dataframe tbody tr th {\n",
       "        vertical-align: top;\n",
       "    }\n",
       "\n",
       "    .dataframe thead th {\n",
       "        text-align: right;\n",
       "    }\n",
       "</style>\n",
       "<table border=\"1\" class=\"dataframe\">\n",
       "  <thead>\n",
       "    <tr style=\"text-align: right;\">\n",
       "      <th>passing_math</th>\n",
       "      <th>failing</th>\n",
       "      <th>passing</th>\n",
       "      <th>All</th>\n",
       "    </tr>\n",
       "    <tr>\n",
       "      <th>classroom</th>\n",
       "      <th></th>\n",
       "      <th></th>\n",
       "      <th></th>\n",
       "    </tr>\n",
       "  </thead>\n",
       "  <tbody>\n",
       "    <tr>\n",
       "      <th>A</th>\n",
       "      <td>2</td>\n",
       "      <td>6</td>\n",
       "      <td>8</td>\n",
       "    </tr>\n",
       "    <tr>\n",
       "      <th>B</th>\n",
       "      <td>0</td>\n",
       "      <td>4</td>\n",
       "      <td>4</td>\n",
       "    </tr>\n",
       "    <tr>\n",
       "      <th>All</th>\n",
       "      <td>2</td>\n",
       "      <td>10</td>\n",
       "      <td>12</td>\n",
       "    </tr>\n",
       "  </tbody>\n",
       "</table>\n",
       "</div>"
      ],
      "text/plain": [
       "passing_math  failing  passing  All\n",
       "classroom                          \n",
       "A                   2        6    8\n",
       "B                   0        4    4\n",
       "All                 2       10   12"
      ]
     },
     "execution_count": 10,
     "metadata": {},
     "output_type": "execute_result"
    }
   ],
   "source": [
    "pd.crosstab(df.classroom, df.passing_math, margins=True)"
   ]
  },
  {
   "cell_type": "markdown",
   "id": "f8d6d9fb-9b83-4b8c-aa8e-9dcf1ed0fcb7",
   "metadata": {},
   "source": [
    "The `.crosstab` function will let us view the numbers as percentages of the total as well by setting `normalize` to `True`."
   ]
  },
  {
   "cell_type": "code",
   "execution_count": 11,
   "id": "3cc7f284-f01b-4725-abb8-4b14e26afa13",
   "metadata": {},
   "outputs": [
    {
     "data": {
      "text/html": [
       "<div>\n",
       "<style scoped>\n",
       "    .dataframe tbody tr th:only-of-type {\n",
       "        vertical-align: middle;\n",
       "    }\n",
       "\n",
       "    .dataframe tbody tr th {\n",
       "        vertical-align: top;\n",
       "    }\n",
       "\n",
       "    .dataframe thead th {\n",
       "        text-align: right;\n",
       "    }\n",
       "</style>\n",
       "<table border=\"1\" class=\"dataframe\">\n",
       "  <thead>\n",
       "    <tr style=\"text-align: right;\">\n",
       "      <th>passing_math</th>\n",
       "      <th>failing</th>\n",
       "      <th>passing</th>\n",
       "      <th>All</th>\n",
       "    </tr>\n",
       "    <tr>\n",
       "      <th>classroom</th>\n",
       "      <th></th>\n",
       "      <th></th>\n",
       "      <th></th>\n",
       "    </tr>\n",
       "  </thead>\n",
       "  <tbody>\n",
       "    <tr>\n",
       "      <th>A</th>\n",
       "      <td>0.166667</td>\n",
       "      <td>0.500000</td>\n",
       "      <td>0.666667</td>\n",
       "    </tr>\n",
       "    <tr>\n",
       "      <th>B</th>\n",
       "      <td>0.000000</td>\n",
       "      <td>0.333333</td>\n",
       "      <td>0.333333</td>\n",
       "    </tr>\n",
       "    <tr>\n",
       "      <th>All</th>\n",
       "      <td>0.166667</td>\n",
       "      <td>0.833333</td>\n",
       "      <td>1.000000</td>\n",
       "    </tr>\n",
       "  </tbody>\n",
       "</table>\n",
       "</div>"
      ],
      "text/plain": [
       "passing_math   failing   passing       All\n",
       "classroom                                 \n",
       "A             0.166667  0.500000  0.666667\n",
       "B             0.000000  0.333333  0.333333\n",
       "All           0.166667  0.833333  1.000000"
      ]
     },
     "execution_count": 11,
     "metadata": {},
     "output_type": "execute_result"
    }
   ],
   "source": [
    "pd.crosstab(df.classroom, df.passing_math, margins=True, normalize=True)"
   ]
  },
  {
   "cell_type": "markdown",
   "id": "6c21ef09-bb59-45f9-a7da-2080702196de",
   "metadata": {},
   "source": [
    "### `.pivot_table`\n",
    "\n",
    "Here we use the `.pivot_table` method to create our summary. This method produces output similar to an excel pivot table. We must supply 3 things here:\n",
    "\n",
    "- which values will make up the rows (the `index`)\n",
    "- which values will make up the columns\n",
    "- the values we are aggregating\n",
    "- an aggregation method (`aggfunc`); if we can omit this, and `mean` will be used by default\n",
    "\n",
    "For an example using the `pivot_table` method, we'll calculate the average math grade for the combination of `classroom` and `passing_math` status."
   ]
  },
  {
   "cell_type": "code",
   "execution_count": 12,
   "id": "bbb7f3f0-e9af-4627-b7bf-743b0db17e24",
   "metadata": {},
   "outputs": [
    {
     "data": {
      "text/html": [
       "<div>\n",
       "<style scoped>\n",
       "    .dataframe tbody tr th:only-of-type {\n",
       "        vertical-align: middle;\n",
       "    }\n",
       "\n",
       "    .dataframe tbody tr th {\n",
       "        vertical-align: top;\n",
       "    }\n",
       "\n",
       "    .dataframe thead th {\n",
       "        text-align: right;\n",
       "    }\n",
       "</style>\n",
       "<table border=\"1\" class=\"dataframe\">\n",
       "  <thead>\n",
       "    <tr style=\"text-align: right;\">\n",
       "      <th>passing_math</th>\n",
       "      <th>failing</th>\n",
       "      <th>passing</th>\n",
       "    </tr>\n",
       "    <tr>\n",
       "      <th>classroom</th>\n",
       "      <th></th>\n",
       "      <th></th>\n",
       "    </tr>\n",
       "  </thead>\n",
       "  <tbody>\n",
       "    <tr>\n",
       "      <th>A</th>\n",
       "      <td>65.5</td>\n",
       "      <td>88.333333</td>\n",
       "    </tr>\n",
       "    <tr>\n",
       "      <th>B</th>\n",
       "      <td>NaN</td>\n",
       "      <td>89.250000</td>\n",
       "    </tr>\n",
       "  </tbody>\n",
       "</table>\n",
       "</div>"
      ],
      "text/plain": [
       "passing_math  failing    passing\n",
       "classroom                       \n",
       "A                65.5  88.333333\n",
       "B                 NaN  89.250000"
      ]
     },
     "execution_count": 12,
     "metadata": {},
     "output_type": "execute_result"
    }
   ],
   "source": [
    "df.pivot_table(index='classroom', columns='passing_math', values='math')"
   ]
  },
  {
   "cell_type": "code",
   "execution_count": 14,
   "id": "e62f26b3",
   "metadata": {},
   "outputs": [],
   "source": [
    "pd.DataFrame.pivot_table?"
   ]
  },
  {
   "cell_type": "code",
   "execution_count": 15,
   "id": "a110ee15",
   "metadata": {},
   "outputs": [
    {
     "data": {
      "text/html": [
       "<div>\n",
       "<style scoped>\n",
       "    .dataframe tbody tr th:only-of-type {\n",
       "        vertical-align: middle;\n",
       "    }\n",
       "\n",
       "    .dataframe tbody tr th {\n",
       "        vertical-align: top;\n",
       "    }\n",
       "\n",
       "    .dataframe thead th {\n",
       "        text-align: right;\n",
       "    }\n",
       "</style>\n",
       "<table border=\"1\" class=\"dataframe\">\n",
       "  <thead>\n",
       "    <tr style=\"text-align: right;\">\n",
       "      <th>passing_math</th>\n",
       "      <th>failing</th>\n",
       "      <th>passing</th>\n",
       "    </tr>\n",
       "    <tr>\n",
       "      <th>classroom</th>\n",
       "      <th></th>\n",
       "      <th></th>\n",
       "    </tr>\n",
       "  </thead>\n",
       "  <tbody>\n",
       "    <tr>\n",
       "      <th>A</th>\n",
       "      <td>69.0</td>\n",
       "      <td>94.0</td>\n",
       "    </tr>\n",
       "    <tr>\n",
       "      <th>B</th>\n",
       "      <td>NaN</td>\n",
       "      <td>98.0</td>\n",
       "    </tr>\n",
       "  </tbody>\n",
       "</table>\n",
       "</div>"
      ],
      "text/plain": [
       "passing_math  failing  passing\n",
       "classroom                     \n",
       "A                69.0     94.0\n",
       "B                 NaN     98.0"
      ]
     },
     "execution_count": 15,
     "metadata": {},
     "output_type": "execute_result"
    }
   ],
   "source": [
    "df.pivot_table(index='classroom', columns='passing_math', values='math', aggfunc='max')"
   ]
  },
  {
   "cell_type": "code",
   "execution_count": 16,
   "id": "f2572980",
   "metadata": {},
   "outputs": [
    {
     "data": {
      "text/plain": [
       "passing_math  classroom\n",
       "failing       A            69\n",
       "passing       A            94\n",
       "              B            98\n",
       "Name: math, dtype: int64"
      ]
     },
     "execution_count": 16,
     "metadata": {},
     "output_type": "execute_result"
    }
   ],
   "source": [
    "df.groupby(['passing_math', 'classroom']).math.max()"
   ]
  },
  {
   "cell_type": "markdown",
   "id": "cdf053cc-1f7b-4374-a93e-e88a31929fa3",
   "metadata": {},
   "source": [
    "Here we'll create a dataframe that represents various orders at a restaurant."
   ]
  },
  {
   "cell_type": "code",
   "execution_count": 17,
   "id": "73da575a-2d67-4ad8-b85f-d8bc09270623",
   "metadata": {},
   "outputs": [
    {
     "data": {
      "text/html": [
       "<div>\n",
       "<style scoped>\n",
       "    .dataframe tbody tr th:only-of-type {\n",
       "        vertical-align: middle;\n",
       "    }\n",
       "\n",
       "    .dataframe tbody tr th {\n",
       "        vertical-align: top;\n",
       "    }\n",
       "\n",
       "    .dataframe thead th {\n",
       "        text-align: right;\n",
       "    }\n",
       "</style>\n",
       "<table border=\"1\" class=\"dataframe\">\n",
       "  <thead>\n",
       "    <tr style=\"text-align: right;\">\n",
       "      <th></th>\n",
       "      <th>drink</th>\n",
       "      <th>meal</th>\n",
       "    </tr>\n",
       "  </thead>\n",
       "  <tbody>\n",
       "    <tr>\n",
       "      <th>26</th>\n",
       "      <td>Water</td>\n",
       "      <td>Yakisoba Noodle</td>\n",
       "    </tr>\n",
       "    <tr>\n",
       "      <th>19</th>\n",
       "      <td>Water</td>\n",
       "      <td>Curry</td>\n",
       "    </tr>\n",
       "    <tr>\n",
       "      <th>17</th>\n",
       "      <td>Water</td>\n",
       "      <td>Curry</td>\n",
       "    </tr>\n",
       "    <tr>\n",
       "      <th>27</th>\n",
       "      <td>Water</td>\n",
       "      <td>Curry</td>\n",
       "    </tr>\n",
       "    <tr>\n",
       "      <th>7</th>\n",
       "      <td>Water</td>\n",
       "      <td>Pad Thai</td>\n",
       "    </tr>\n",
       "    <tr>\n",
       "      <th>2</th>\n",
       "      <td>Water</td>\n",
       "      <td>Pad Thai</td>\n",
       "    </tr>\n",
       "    <tr>\n",
       "      <th>29</th>\n",
       "      <td>Water</td>\n",
       "      <td>Pad Thai</td>\n",
       "    </tr>\n",
       "    <tr>\n",
       "      <th>33</th>\n",
       "      <td>Water</td>\n",
       "      <td>Yakisoba Noodle</td>\n",
       "    </tr>\n",
       "    <tr>\n",
       "      <th>37</th>\n",
       "      <td>Tea</td>\n",
       "      <td>Yakisoba Noodle</td>\n",
       "    </tr>\n",
       "    <tr>\n",
       "      <th>14</th>\n",
       "      <td>Tea</td>\n",
       "      <td>Yakisoba Noodle</td>\n",
       "    </tr>\n",
       "  </tbody>\n",
       "</table>\n",
       "</div>"
      ],
      "text/plain": [
       "    drink             meal\n",
       "26  Water  Yakisoba Noodle\n",
       "19  Water            Curry\n",
       "17  Water            Curry\n",
       "27  Water            Curry\n",
       "7   Water         Pad Thai\n",
       "2   Water         Pad Thai\n",
       "29  Water         Pad Thai\n",
       "33  Water  Yakisoba Noodle\n",
       "37    Tea  Yakisoba Noodle\n",
       "14    Tea  Yakisoba Noodle"
      ]
     },
     "execution_count": 17,
     "metadata": {},
     "output_type": "execute_result"
    }
   ],
   "source": [
    "n = 40\n",
    "\n",
    "orders = pd.DataFrame({\n",
    "    'drink': np.random.choice(['Tea', 'Water', 'Water'], n),\n",
    "    'meal': np.random.choice(['Curry', 'Yakisoba Noodle', 'Pad Thai'], n),\n",
    "})\n",
    "\n",
    "orders.sample(10)"
   ]
  },
  {
   "cell_type": "markdown",
   "id": "95357272-4094-4d97-b09c-fc09fa31ec6b",
   "metadata": {},
   "source": [
    "#### `.map`\n",
    "\n",
    "The `.map` method lets us use a dictionary to calculate the total price for an order; then I can save my calculations to a new column named `bill`. Let's do this step-by-step."
   ]
  },
  {
   "cell_type": "code",
   "execution_count": 18,
   "id": "2b7d0141-d356-47eb-801d-ad12fdfea750",
   "metadata": {},
   "outputs": [],
   "source": [
    "# Create a dictionary of prices for drinks and meals.\n",
    "\n",
    "prices = {\n",
    "    'Yakisoba Noodle': 9,\n",
    "    'Curry': 11,\n",
    "    'Pad Thai': 10,\n",
    "    'Tea': 2,\n",
    "    'Water': 0,\n",
    "}"
   ]
  },
  {
   "cell_type": "code",
   "execution_count": 21,
   "id": "7c85716d-a9d7-4d7a-9224-1f274aff8b70",
   "metadata": {},
   "outputs": [],
   "source": [
    "\"\"\"\n",
    "Match the values in the 'drink' and 'meal' columns with the values in the 'prices' dictionary \n",
    "and perform the specified calculation. Save this calculation to a new column named 'bill'.\n",
    "\"\"\"\n",
    "\n",
    "orders['bill'] = orders.drink.map(prices) + orders.meal.map(prices)"
   ]
  },
  {
   "cell_type": "code",
   "execution_count": 22,
   "id": "8d3a7e3f",
   "metadata": {},
   "outputs": [
    {
     "data": {
      "text/html": [
       "<div>\n",
       "<style scoped>\n",
       "    .dataframe tbody tr th:only-of-type {\n",
       "        vertical-align: middle;\n",
       "    }\n",
       "\n",
       "    .dataframe tbody tr th {\n",
       "        vertical-align: top;\n",
       "    }\n",
       "\n",
       "    .dataframe thead th {\n",
       "        text-align: right;\n",
       "    }\n",
       "</style>\n",
       "<table border=\"1\" class=\"dataframe\">\n",
       "  <thead>\n",
       "    <tr style=\"text-align: right;\">\n",
       "      <th></th>\n",
       "      <th>drink</th>\n",
       "      <th>meal</th>\n",
       "      <th>bill</th>\n",
       "    </tr>\n",
       "  </thead>\n",
       "  <tbody>\n",
       "    <tr>\n",
       "      <th>0</th>\n",
       "      <td>Water</td>\n",
       "      <td>Pad Thai</td>\n",
       "      <td>10</td>\n",
       "    </tr>\n",
       "    <tr>\n",
       "      <th>1</th>\n",
       "      <td>Water</td>\n",
       "      <td>Curry</td>\n",
       "      <td>11</td>\n",
       "    </tr>\n",
       "    <tr>\n",
       "      <th>2</th>\n",
       "      <td>Water</td>\n",
       "      <td>Pad Thai</td>\n",
       "      <td>10</td>\n",
       "    </tr>\n",
       "    <tr>\n",
       "      <th>3</th>\n",
       "      <td>Tea</td>\n",
       "      <td>Pad Thai</td>\n",
       "      <td>12</td>\n",
       "    </tr>\n",
       "    <tr>\n",
       "      <th>4</th>\n",
       "      <td>Water</td>\n",
       "      <td>Pad Thai</td>\n",
       "      <td>10</td>\n",
       "    </tr>\n",
       "  </tbody>\n",
       "</table>\n",
       "</div>"
      ],
      "text/plain": [
       "   drink      meal  bill\n",
       "0  Water  Pad Thai    10\n",
       "1  Water     Curry    11\n",
       "2  Water  Pad Thai    10\n",
       "3    Tea  Pad Thai    12\n",
       "4  Water  Pad Thai    10"
      ]
     },
     "execution_count": 22,
     "metadata": {},
     "output_type": "execute_result"
    }
   ],
   "source": [
    "orders.head()"
   ]
  },
  {
   "cell_type": "markdown",
   "id": "9ba6c36a-625c-4f1b-8ea7-788f61499ef0",
   "metadata": {},
   "source": [
    "Let's take a look at how many orders have each combination of meal and drink:"
   ]
  },
  {
   "cell_type": "code",
   "execution_count": 23,
   "id": "1b8cd03c-59aa-4ba3-ba92-ce5b64111668",
   "metadata": {},
   "outputs": [
    {
     "data": {
      "text/html": [
       "<div>\n",
       "<style scoped>\n",
       "    .dataframe tbody tr th:only-of-type {\n",
       "        vertical-align: middle;\n",
       "    }\n",
       "\n",
       "    .dataframe tbody tr th {\n",
       "        vertical-align: top;\n",
       "    }\n",
       "\n",
       "    .dataframe thead th {\n",
       "        text-align: right;\n",
       "    }\n",
       "</style>\n",
       "<table border=\"1\" class=\"dataframe\">\n",
       "  <thead>\n",
       "    <tr style=\"text-align: right;\">\n",
       "      <th>meal</th>\n",
       "      <th>Curry</th>\n",
       "      <th>Pad Thai</th>\n",
       "      <th>Yakisoba Noodle</th>\n",
       "      <th>All</th>\n",
       "    </tr>\n",
       "    <tr>\n",
       "      <th>drink</th>\n",
       "      <th></th>\n",
       "      <th></th>\n",
       "      <th></th>\n",
       "      <th></th>\n",
       "    </tr>\n",
       "  </thead>\n",
       "  <tbody>\n",
       "    <tr>\n",
       "      <th>Tea</th>\n",
       "      <td>2</td>\n",
       "      <td>5</td>\n",
       "      <td>4</td>\n",
       "      <td>11</td>\n",
       "    </tr>\n",
       "    <tr>\n",
       "      <th>Water</th>\n",
       "      <td>9</td>\n",
       "      <td>11</td>\n",
       "      <td>9</td>\n",
       "      <td>29</td>\n",
       "    </tr>\n",
       "    <tr>\n",
       "      <th>All</th>\n",
       "      <td>11</td>\n",
       "      <td>16</td>\n",
       "      <td>13</td>\n",
       "      <td>40</td>\n",
       "    </tr>\n",
       "  </tbody>\n",
       "</table>\n",
       "</div>"
      ],
      "text/plain": [
       "meal   Curry  Pad Thai  Yakisoba Noodle  All\n",
       "drink                                       \n",
       "Tea        2         5                4   11\n",
       "Water      9        11                9   29\n",
       "All       11        16               13   40"
      ]
     },
     "execution_count": 23,
     "metadata": {},
     "output_type": "execute_result"
    }
   ],
   "source": [
    "pd.crosstab(orders.drink, orders.meal, margins=True)"
   ]
  },
  {
   "cell_type": "code",
   "execution_count": 24,
   "id": "d0773945-9a50-4e22-9420-a709cd2cef38",
   "metadata": {},
   "outputs": [
    {
     "data": {
      "text/html": [
       "<div>\n",
       "<style scoped>\n",
       "    .dataframe tbody tr th:only-of-type {\n",
       "        vertical-align: middle;\n",
       "    }\n",
       "\n",
       "    .dataframe tbody tr th {\n",
       "        vertical-align: top;\n",
       "    }\n",
       "\n",
       "    .dataframe thead tr th {\n",
       "        text-align: left;\n",
       "    }\n",
       "\n",
       "    .dataframe thead tr:last-of-type th {\n",
       "        text-align: right;\n",
       "    }\n",
       "</style>\n",
       "<table border=\"1\" class=\"dataframe\">\n",
       "  <thead>\n",
       "    <tr>\n",
       "      <th></th>\n",
       "      <th colspan=\"3\" halign=\"left\">bill</th>\n",
       "    </tr>\n",
       "    <tr>\n",
       "      <th>meal</th>\n",
       "      <th>Curry</th>\n",
       "      <th>Pad Thai</th>\n",
       "      <th>Yakisoba Noodle</th>\n",
       "    </tr>\n",
       "    <tr>\n",
       "      <th>drink</th>\n",
       "      <th></th>\n",
       "      <th></th>\n",
       "      <th></th>\n",
       "    </tr>\n",
       "  </thead>\n",
       "  <tbody>\n",
       "    <tr>\n",
       "      <th>Tea</th>\n",
       "      <td>13</td>\n",
       "      <td>12</td>\n",
       "      <td>11</td>\n",
       "    </tr>\n",
       "    <tr>\n",
       "      <th>Water</th>\n",
       "      <td>11</td>\n",
       "      <td>10</td>\n",
       "      <td>9</td>\n",
       "    </tr>\n",
       "  </tbody>\n",
       "</table>\n",
       "</div>"
      ],
      "text/plain": [
       "       bill                         \n",
       "meal  Curry Pad Thai Yakisoba Noodle\n",
       "drink                               \n",
       "Tea      13       12              11\n",
       "Water    11       10               9"
      ]
     },
     "execution_count": 24,
     "metadata": {},
     "output_type": "execute_result"
    }
   ],
   "source": [
    "orders.pivot_table(index='drink', columns='meal')"
   ]
  },
  {
   "cell_type": "code",
   "execution_count": 25,
   "id": "fac39e66",
   "metadata": {},
   "outputs": [
    {
     "data": {
      "text/html": [
       "<div>\n",
       "<style scoped>\n",
       "    .dataframe tbody tr th:only-of-type {\n",
       "        vertical-align: middle;\n",
       "    }\n",
       "\n",
       "    .dataframe tbody tr th {\n",
       "        vertical-align: top;\n",
       "    }\n",
       "\n",
       "    .dataframe thead th {\n",
       "        text-align: right;\n",
       "    }\n",
       "</style>\n",
       "<table border=\"1\" class=\"dataframe\">\n",
       "  <thead>\n",
       "    <tr style=\"text-align: right;\">\n",
       "      <th>meal</th>\n",
       "      <th>Curry</th>\n",
       "      <th>Pad Thai</th>\n",
       "      <th>Yakisoba Noodle</th>\n",
       "    </tr>\n",
       "    <tr>\n",
       "      <th>drink</th>\n",
       "      <th></th>\n",
       "      <th></th>\n",
       "      <th></th>\n",
       "    </tr>\n",
       "  </thead>\n",
       "  <tbody>\n",
       "    <tr>\n",
       "      <th>Tea</th>\n",
       "      <td>13</td>\n",
       "      <td>12</td>\n",
       "      <td>11</td>\n",
       "    </tr>\n",
       "    <tr>\n",
       "      <th>Water</th>\n",
       "      <td>11</td>\n",
       "      <td>10</td>\n",
       "      <td>9</td>\n",
       "    </tr>\n",
       "  </tbody>\n",
       "</table>\n",
       "</div>"
      ],
      "text/plain": [
       "meal   Curry  Pad Thai  Yakisoba Noodle\n",
       "drink                                  \n",
       "Tea       13        12               11\n",
       "Water     11        10                9"
      ]
     },
     "execution_count": 25,
     "metadata": {},
     "output_type": "execute_result"
    }
   ],
   "source": [
    "orders.pivot_table(index='drink', columns='meal', values='bill', aggfunc='mean')"
   ]
  },
  {
   "cell_type": "markdown",
   "id": "16acac64-4620-4ceb-bd6f-e9c631da5960",
   "metadata": {},
   "source": [
    "And let's find out the average bill amount for each combination: "
   ]
  },
  {
   "cell_type": "code",
   "execution_count": null,
   "id": "f397b33f-ee33-4e4a-941e-11dea6d5ed37",
   "metadata": {},
   "outputs": [],
   "source": []
  },
  {
   "cell_type": "markdown",
   "id": "5114f3a7-c906-4af1-9f3a-0c21dbd8a195",
   "metadata": {},
   "source": [
    "It's interesting to note that we could find the same information with a multi-level group by:"
   ]
  },
  {
   "cell_type": "code",
   "execution_count": 26,
   "id": "78f40b81-8b96-4292-a111-874411ff09e8",
   "metadata": {},
   "outputs": [
    {
     "data": {
      "text/plain": [
       "meal             drink\n",
       "Curry            Tea      13.0\n",
       "                 Water    11.0\n",
       "Pad Thai         Tea      12.0\n",
       "                 Water    10.0\n",
       "Yakisoba Noodle  Tea      11.0\n",
       "                 Water     9.0\n",
       "Name: bill, dtype: float64"
      ]
     },
     "execution_count": 26,
     "metadata": {},
     "output_type": "execute_result"
    }
   ],
   "source": [
    "orders.groupby(['meal', 'drink']).bill.agg('mean')"
   ]
  },
  {
   "cell_type": "markdown",
   "id": "51cceafd-7445-4ea2-8e49-bc5c075fb129",
   "metadata": {},
   "source": [
    "The choice between group by and a pivot table here is mostly asthetic, and you should use whichever makes more sense to you with the problem at hand. "
   ]
  },
  {
   "cell_type": "markdown",
   "id": "d3646ec8-6142-4cad-931a-254d12fac05c",
   "metadata": {},
   "source": [
    "### Transposing"
   ]
  },
  {
   "cell_type": "code",
   "execution_count": 27,
   "id": "c5d4803c-8def-46e1-ad92-444adc7f64c1",
   "metadata": {},
   "outputs": [
    {
     "data": {
      "text/html": [
       "<div>\n",
       "<style scoped>\n",
       "    .dataframe tbody tr th:only-of-type {\n",
       "        vertical-align: middle;\n",
       "    }\n",
       "\n",
       "    .dataframe tbody tr th {\n",
       "        vertical-align: top;\n",
       "    }\n",
       "\n",
       "    .dataframe thead th {\n",
       "        text-align: right;\n",
       "    }\n",
       "</style>\n",
       "<table border=\"1\" class=\"dataframe\">\n",
       "  <thead>\n",
       "    <tr style=\"text-align: right;\">\n",
       "      <th></th>\n",
       "      <th>drink</th>\n",
       "      <th>meal</th>\n",
       "      <th>bill</th>\n",
       "    </tr>\n",
       "  </thead>\n",
       "  <tbody>\n",
       "    <tr>\n",
       "      <th>0</th>\n",
       "      <td>Water</td>\n",
       "      <td>Pad Thai</td>\n",
       "      <td>10</td>\n",
       "    </tr>\n",
       "    <tr>\n",
       "      <th>1</th>\n",
       "      <td>Water</td>\n",
       "      <td>Curry</td>\n",
       "      <td>11</td>\n",
       "    </tr>\n",
       "    <tr>\n",
       "      <th>2</th>\n",
       "      <td>Water</td>\n",
       "      <td>Pad Thai</td>\n",
       "      <td>10</td>\n",
       "    </tr>\n",
       "    <tr>\n",
       "      <th>3</th>\n",
       "      <td>Tea</td>\n",
       "      <td>Pad Thai</td>\n",
       "      <td>12</td>\n",
       "    </tr>\n",
       "    <tr>\n",
       "      <th>4</th>\n",
       "      <td>Water</td>\n",
       "      <td>Pad Thai</td>\n",
       "      <td>10</td>\n",
       "    </tr>\n",
       "    <tr>\n",
       "      <th>5</th>\n",
       "      <td>Water</td>\n",
       "      <td>Pad Thai</td>\n",
       "      <td>10</td>\n",
       "    </tr>\n",
       "    <tr>\n",
       "      <th>6</th>\n",
       "      <td>Water</td>\n",
       "      <td>Yakisoba Noodle</td>\n",
       "      <td>9</td>\n",
       "    </tr>\n",
       "    <tr>\n",
       "      <th>7</th>\n",
       "      <td>Water</td>\n",
       "      <td>Pad Thai</td>\n",
       "      <td>10</td>\n",
       "    </tr>\n",
       "    <tr>\n",
       "      <th>8</th>\n",
       "      <td>Water</td>\n",
       "      <td>Pad Thai</td>\n",
       "      <td>10</td>\n",
       "    </tr>\n",
       "    <tr>\n",
       "      <th>9</th>\n",
       "      <td>Water</td>\n",
       "      <td>Pad Thai</td>\n",
       "      <td>10</td>\n",
       "    </tr>\n",
       "    <tr>\n",
       "      <th>10</th>\n",
       "      <td>Tea</td>\n",
       "      <td>Yakisoba Noodle</td>\n",
       "      <td>11</td>\n",
       "    </tr>\n",
       "    <tr>\n",
       "      <th>11</th>\n",
       "      <td>Tea</td>\n",
       "      <td>Pad Thai</td>\n",
       "      <td>12</td>\n",
       "    </tr>\n",
       "    <tr>\n",
       "      <th>12</th>\n",
       "      <td>Water</td>\n",
       "      <td>Pad Thai</td>\n",
       "      <td>10</td>\n",
       "    </tr>\n",
       "    <tr>\n",
       "      <th>13</th>\n",
       "      <td>Tea</td>\n",
       "      <td>Yakisoba Noodle</td>\n",
       "      <td>11</td>\n",
       "    </tr>\n",
       "    <tr>\n",
       "      <th>14</th>\n",
       "      <td>Tea</td>\n",
       "      <td>Yakisoba Noodle</td>\n",
       "      <td>11</td>\n",
       "    </tr>\n",
       "    <tr>\n",
       "      <th>15</th>\n",
       "      <td>Tea</td>\n",
       "      <td>Curry</td>\n",
       "      <td>13</td>\n",
       "    </tr>\n",
       "    <tr>\n",
       "      <th>16</th>\n",
       "      <td>Water</td>\n",
       "      <td>Curry</td>\n",
       "      <td>11</td>\n",
       "    </tr>\n",
       "    <tr>\n",
       "      <th>17</th>\n",
       "      <td>Water</td>\n",
       "      <td>Curry</td>\n",
       "      <td>11</td>\n",
       "    </tr>\n",
       "    <tr>\n",
       "      <th>18</th>\n",
       "      <td>Water</td>\n",
       "      <td>Yakisoba Noodle</td>\n",
       "      <td>9</td>\n",
       "    </tr>\n",
       "    <tr>\n",
       "      <th>19</th>\n",
       "      <td>Water</td>\n",
       "      <td>Curry</td>\n",
       "      <td>11</td>\n",
       "    </tr>\n",
       "    <tr>\n",
       "      <th>20</th>\n",
       "      <td>Water</td>\n",
       "      <td>Yakisoba Noodle</td>\n",
       "      <td>9</td>\n",
       "    </tr>\n",
       "    <tr>\n",
       "      <th>21</th>\n",
       "      <td>Water</td>\n",
       "      <td>Curry</td>\n",
       "      <td>11</td>\n",
       "    </tr>\n",
       "    <tr>\n",
       "      <th>22</th>\n",
       "      <td>Tea</td>\n",
       "      <td>Curry</td>\n",
       "      <td>13</td>\n",
       "    </tr>\n",
       "    <tr>\n",
       "      <th>23</th>\n",
       "      <td>Water</td>\n",
       "      <td>Yakisoba Noodle</td>\n",
       "      <td>9</td>\n",
       "    </tr>\n",
       "    <tr>\n",
       "      <th>24</th>\n",
       "      <td>Water</td>\n",
       "      <td>Curry</td>\n",
       "      <td>11</td>\n",
       "    </tr>\n",
       "    <tr>\n",
       "      <th>25</th>\n",
       "      <td>Water</td>\n",
       "      <td>Pad Thai</td>\n",
       "      <td>10</td>\n",
       "    </tr>\n",
       "    <tr>\n",
       "      <th>26</th>\n",
       "      <td>Water</td>\n",
       "      <td>Yakisoba Noodle</td>\n",
       "      <td>9</td>\n",
       "    </tr>\n",
       "    <tr>\n",
       "      <th>27</th>\n",
       "      <td>Water</td>\n",
       "      <td>Curry</td>\n",
       "      <td>11</td>\n",
       "    </tr>\n",
       "    <tr>\n",
       "      <th>28</th>\n",
       "      <td>Water</td>\n",
       "      <td>Curry</td>\n",
       "      <td>11</td>\n",
       "    </tr>\n",
       "    <tr>\n",
       "      <th>29</th>\n",
       "      <td>Water</td>\n",
       "      <td>Pad Thai</td>\n",
       "      <td>10</td>\n",
       "    </tr>\n",
       "    <tr>\n",
       "      <th>30</th>\n",
       "      <td>Tea</td>\n",
       "      <td>Pad Thai</td>\n",
       "      <td>12</td>\n",
       "    </tr>\n",
       "    <tr>\n",
       "      <th>31</th>\n",
       "      <td>Tea</td>\n",
       "      <td>Pad Thai</td>\n",
       "      <td>12</td>\n",
       "    </tr>\n",
       "    <tr>\n",
       "      <th>32</th>\n",
       "      <td>Tea</td>\n",
       "      <td>Pad Thai</td>\n",
       "      <td>12</td>\n",
       "    </tr>\n",
       "    <tr>\n",
       "      <th>33</th>\n",
       "      <td>Water</td>\n",
       "      <td>Yakisoba Noodle</td>\n",
       "      <td>9</td>\n",
       "    </tr>\n",
       "    <tr>\n",
       "      <th>34</th>\n",
       "      <td>Water</td>\n",
       "      <td>Curry</td>\n",
       "      <td>11</td>\n",
       "    </tr>\n",
       "    <tr>\n",
       "      <th>35</th>\n",
       "      <td>Water</td>\n",
       "      <td>Yakisoba Noodle</td>\n",
       "      <td>9</td>\n",
       "    </tr>\n",
       "    <tr>\n",
       "      <th>36</th>\n",
       "      <td>Water</td>\n",
       "      <td>Yakisoba Noodle</td>\n",
       "      <td>9</td>\n",
       "    </tr>\n",
       "    <tr>\n",
       "      <th>37</th>\n",
       "      <td>Tea</td>\n",
       "      <td>Yakisoba Noodle</td>\n",
       "      <td>11</td>\n",
       "    </tr>\n",
       "    <tr>\n",
       "      <th>38</th>\n",
       "      <td>Water</td>\n",
       "      <td>Pad Thai</td>\n",
       "      <td>10</td>\n",
       "    </tr>\n",
       "    <tr>\n",
       "      <th>39</th>\n",
       "      <td>Water</td>\n",
       "      <td>Yakisoba Noodle</td>\n",
       "      <td>9</td>\n",
       "    </tr>\n",
       "  </tbody>\n",
       "</table>\n",
       "</div>"
      ],
      "text/plain": [
       "    drink             meal  bill\n",
       "0   Water         Pad Thai    10\n",
       "1   Water            Curry    11\n",
       "2   Water         Pad Thai    10\n",
       "3     Tea         Pad Thai    12\n",
       "4   Water         Pad Thai    10\n",
       "5   Water         Pad Thai    10\n",
       "6   Water  Yakisoba Noodle     9\n",
       "7   Water         Pad Thai    10\n",
       "8   Water         Pad Thai    10\n",
       "9   Water         Pad Thai    10\n",
       "10    Tea  Yakisoba Noodle    11\n",
       "11    Tea         Pad Thai    12\n",
       "12  Water         Pad Thai    10\n",
       "13    Tea  Yakisoba Noodle    11\n",
       "14    Tea  Yakisoba Noodle    11\n",
       "15    Tea            Curry    13\n",
       "16  Water            Curry    11\n",
       "17  Water            Curry    11\n",
       "18  Water  Yakisoba Noodle     9\n",
       "19  Water            Curry    11\n",
       "20  Water  Yakisoba Noodle     9\n",
       "21  Water            Curry    11\n",
       "22    Tea            Curry    13\n",
       "23  Water  Yakisoba Noodle     9\n",
       "24  Water            Curry    11\n",
       "25  Water         Pad Thai    10\n",
       "26  Water  Yakisoba Noodle     9\n",
       "27  Water            Curry    11\n",
       "28  Water            Curry    11\n",
       "29  Water         Pad Thai    10\n",
       "30    Tea         Pad Thai    12\n",
       "31    Tea         Pad Thai    12\n",
       "32    Tea         Pad Thai    12\n",
       "33  Water  Yakisoba Noodle     9\n",
       "34  Water            Curry    11\n",
       "35  Water  Yakisoba Noodle     9\n",
       "36  Water  Yakisoba Noodle     9\n",
       "37    Tea  Yakisoba Noodle    11\n",
       "38  Water         Pad Thai    10\n",
       "39  Water  Yakisoba Noodle     9"
      ]
     },
     "execution_count": 27,
     "metadata": {},
     "output_type": "execute_result"
    }
   ],
   "source": [
    "orders"
   ]
  },
  {
   "cell_type": "code",
   "execution_count": 28,
   "id": "2d0dfeac-cf2f-4107-9614-18090b7dcba3",
   "metadata": {},
   "outputs": [
    {
     "data": {
      "text/html": [
       "<div>\n",
       "<style scoped>\n",
       "    .dataframe tbody tr th:only-of-type {\n",
       "        vertical-align: middle;\n",
       "    }\n",
       "\n",
       "    .dataframe tbody tr th {\n",
       "        vertical-align: top;\n",
       "    }\n",
       "\n",
       "    .dataframe thead th {\n",
       "        text-align: right;\n",
       "    }\n",
       "</style>\n",
       "<table border=\"1\" class=\"dataframe\">\n",
       "  <thead>\n",
       "    <tr style=\"text-align: right;\">\n",
       "      <th></th>\n",
       "      <th>0</th>\n",
       "      <th>1</th>\n",
       "      <th>2</th>\n",
       "      <th>3</th>\n",
       "      <th>4</th>\n",
       "      <th>5</th>\n",
       "      <th>6</th>\n",
       "      <th>7</th>\n",
       "      <th>8</th>\n",
       "      <th>9</th>\n",
       "      <th>...</th>\n",
       "      <th>30</th>\n",
       "      <th>31</th>\n",
       "      <th>32</th>\n",
       "      <th>33</th>\n",
       "      <th>34</th>\n",
       "      <th>35</th>\n",
       "      <th>36</th>\n",
       "      <th>37</th>\n",
       "      <th>38</th>\n",
       "      <th>39</th>\n",
       "    </tr>\n",
       "  </thead>\n",
       "  <tbody>\n",
       "    <tr>\n",
       "      <th>drink</th>\n",
       "      <td>Water</td>\n",
       "      <td>Water</td>\n",
       "      <td>Water</td>\n",
       "      <td>Tea</td>\n",
       "      <td>Water</td>\n",
       "      <td>Water</td>\n",
       "      <td>Water</td>\n",
       "      <td>Water</td>\n",
       "      <td>Water</td>\n",
       "      <td>Water</td>\n",
       "      <td>...</td>\n",
       "      <td>Tea</td>\n",
       "      <td>Tea</td>\n",
       "      <td>Tea</td>\n",
       "      <td>Water</td>\n",
       "      <td>Water</td>\n",
       "      <td>Water</td>\n",
       "      <td>Water</td>\n",
       "      <td>Tea</td>\n",
       "      <td>Water</td>\n",
       "      <td>Water</td>\n",
       "    </tr>\n",
       "    <tr>\n",
       "      <th>meal</th>\n",
       "      <td>Pad Thai</td>\n",
       "      <td>Curry</td>\n",
       "      <td>Pad Thai</td>\n",
       "      <td>Pad Thai</td>\n",
       "      <td>Pad Thai</td>\n",
       "      <td>Pad Thai</td>\n",
       "      <td>Yakisoba Noodle</td>\n",
       "      <td>Pad Thai</td>\n",
       "      <td>Pad Thai</td>\n",
       "      <td>Pad Thai</td>\n",
       "      <td>...</td>\n",
       "      <td>Pad Thai</td>\n",
       "      <td>Pad Thai</td>\n",
       "      <td>Pad Thai</td>\n",
       "      <td>Yakisoba Noodle</td>\n",
       "      <td>Curry</td>\n",
       "      <td>Yakisoba Noodle</td>\n",
       "      <td>Yakisoba Noodle</td>\n",
       "      <td>Yakisoba Noodle</td>\n",
       "      <td>Pad Thai</td>\n",
       "      <td>Yakisoba Noodle</td>\n",
       "    </tr>\n",
       "    <tr>\n",
       "      <th>bill</th>\n",
       "      <td>10</td>\n",
       "      <td>11</td>\n",
       "      <td>10</td>\n",
       "      <td>12</td>\n",
       "      <td>10</td>\n",
       "      <td>10</td>\n",
       "      <td>9</td>\n",
       "      <td>10</td>\n",
       "      <td>10</td>\n",
       "      <td>10</td>\n",
       "      <td>...</td>\n",
       "      <td>12</td>\n",
       "      <td>12</td>\n",
       "      <td>12</td>\n",
       "      <td>9</td>\n",
       "      <td>11</td>\n",
       "      <td>9</td>\n",
       "      <td>9</td>\n",
       "      <td>11</td>\n",
       "      <td>10</td>\n",
       "      <td>9</td>\n",
       "    </tr>\n",
       "  </tbody>\n",
       "</table>\n",
       "<p>3 rows × 40 columns</p>\n",
       "</div>"
      ],
      "text/plain": [
       "             0      1         2         3         4         5   \\\n",
       "drink     Water  Water     Water       Tea     Water     Water   \n",
       "meal   Pad Thai  Curry  Pad Thai  Pad Thai  Pad Thai  Pad Thai   \n",
       "bill         10     11        10        12        10        10   \n",
       "\n",
       "                    6         7         8         9   ...        30        31  \\\n",
       "drink            Water     Water     Water     Water  ...       Tea       Tea   \n",
       "meal   Yakisoba Noodle  Pad Thai  Pad Thai  Pad Thai  ...  Pad Thai  Pad Thai   \n",
       "bill                 9        10        10        10  ...        12        12   \n",
       "\n",
       "             32               33     34               35               36  \\\n",
       "drink       Tea            Water  Water            Water            Water   \n",
       "meal   Pad Thai  Yakisoba Noodle  Curry  Yakisoba Noodle  Yakisoba Noodle   \n",
       "bill         12                9     11                9                9   \n",
       "\n",
       "                    37        38               39  \n",
       "drink              Tea     Water            Water  \n",
       "meal   Yakisoba Noodle  Pad Thai  Yakisoba Noodle  \n",
       "bill                11        10                9  \n",
       "\n",
       "[3 rows x 40 columns]"
      ]
     },
     "execution_count": 28,
     "metadata": {},
     "output_type": "execute_result"
    }
   ],
   "source": [
    "orders.T"
   ]
  },
  {
   "cell_type": "code",
   "execution_count": 30,
   "id": "6cc07048-d9ae-4dfe-a5b0-a6bd1ee71894",
   "metadata": {},
   "outputs": [
    {
     "data": {
      "text/html": [
       "<div>\n",
       "<style scoped>\n",
       "    .dataframe tbody tr th:only-of-type {\n",
       "        vertical-align: middle;\n",
       "    }\n",
       "\n",
       "    .dataframe tbody tr th {\n",
       "        vertical-align: top;\n",
       "    }\n",
       "\n",
       "    .dataframe thead th {\n",
       "        text-align: right;\n",
       "    }\n",
       "</style>\n",
       "<table border=\"1\" class=\"dataframe\">\n",
       "  <thead>\n",
       "    <tr style=\"text-align: right;\">\n",
       "      <th></th>\n",
       "      <th>bill</th>\n",
       "    </tr>\n",
       "  </thead>\n",
       "  <tbody>\n",
       "    <tr>\n",
       "      <th>count</th>\n",
       "      <td>40.000000</td>\n",
       "    </tr>\n",
       "    <tr>\n",
       "      <th>mean</th>\n",
       "      <td>10.500000</td>\n",
       "    </tr>\n",
       "    <tr>\n",
       "      <th>std</th>\n",
       "      <td>1.132277</td>\n",
       "    </tr>\n",
       "    <tr>\n",
       "      <th>min</th>\n",
       "      <td>9.000000</td>\n",
       "    </tr>\n",
       "    <tr>\n",
       "      <th>25%</th>\n",
       "      <td>10.000000</td>\n",
       "    </tr>\n",
       "    <tr>\n",
       "      <th>50%</th>\n",
       "      <td>10.500000</td>\n",
       "    </tr>\n",
       "    <tr>\n",
       "      <th>75%</th>\n",
       "      <td>11.000000</td>\n",
       "    </tr>\n",
       "    <tr>\n",
       "      <th>max</th>\n",
       "      <td>13.000000</td>\n",
       "    </tr>\n",
       "  </tbody>\n",
       "</table>\n",
       "</div>"
      ],
      "text/plain": [
       "            bill\n",
       "count  40.000000\n",
       "mean   10.500000\n",
       "std     1.132277\n",
       "min     9.000000\n",
       "25%    10.000000\n",
       "50%    10.500000\n",
       "75%    11.000000\n",
       "max    13.000000"
      ]
     },
     "execution_count": 30,
     "metadata": {},
     "output_type": "execute_result"
    }
   ],
   "source": [
    "orders.describe()"
   ]
  },
  {
   "cell_type": "code",
   "execution_count": 31,
   "id": "b609a27a",
   "metadata": {},
   "outputs": [
    {
     "data": {
      "text/html": [
       "<div>\n",
       "<style scoped>\n",
       "    .dataframe tbody tr th:only-of-type {\n",
       "        vertical-align: middle;\n",
       "    }\n",
       "\n",
       "    .dataframe tbody tr th {\n",
       "        vertical-align: top;\n",
       "    }\n",
       "\n",
       "    .dataframe thead th {\n",
       "        text-align: right;\n",
       "    }\n",
       "</style>\n",
       "<table border=\"1\" class=\"dataframe\">\n",
       "  <thead>\n",
       "    <tr style=\"text-align: right;\">\n",
       "      <th></th>\n",
       "      <th>count</th>\n",
       "      <th>mean</th>\n",
       "      <th>std</th>\n",
       "      <th>min</th>\n",
       "      <th>25%</th>\n",
       "      <th>50%</th>\n",
       "      <th>75%</th>\n",
       "      <th>max</th>\n",
       "    </tr>\n",
       "  </thead>\n",
       "  <tbody>\n",
       "    <tr>\n",
       "      <th>bill</th>\n",
       "      <td>40.0</td>\n",
       "      <td>10.5</td>\n",
       "      <td>1.132277</td>\n",
       "      <td>9.0</td>\n",
       "      <td>10.0</td>\n",
       "      <td>10.5</td>\n",
       "      <td>11.0</td>\n",
       "      <td>13.0</td>\n",
       "    </tr>\n",
       "  </tbody>\n",
       "</table>\n",
       "</div>"
      ],
      "text/plain": [
       "      count  mean       std  min   25%   50%   75%   max\n",
       "bill   40.0  10.5  1.132277  9.0  10.0  10.5  11.0  13.0"
      ]
     },
     "execution_count": 31,
     "metadata": {},
     "output_type": "execute_result"
    }
   ],
   "source": [
    "orders.describe().T"
   ]
  },
  {
   "cell_type": "markdown",
   "id": "b0b8ee5e",
   "metadata": {},
   "source": [
    "## Exercises III\n",
    "\n",
    "1. Use your `get_db_url` function to help you explore the data from the `chipotle` database. "
   ]
  },
  {
   "cell_type": "code",
   "execution_count": 32,
   "id": "e9c75c37",
   "metadata": {},
   "outputs": [],
   "source": [
    "def get_db_url(schema):\n",
    "    import env\n",
    "    user = env.username\n",
    "    password = env.password\n",
    "    host = env.host\n",
    "    conn = f'mysql+pymysql://{user}:{password}@{host}/{schema}'\n",
    "    return conn"
   ]
  },
  {
   "cell_type": "code",
   "execution_count": 39,
   "id": "6c5c0974",
   "metadata": {},
   "outputs": [],
   "source": [
    "query = 'SELECT * FROM orders'"
   ]
  },
  {
   "cell_type": "code",
   "execution_count": 40,
   "id": "332d5b93",
   "metadata": {},
   "outputs": [],
   "source": [
    "chip = pd.read_sql(query, get_db_url('chipotle'))"
   ]
  },
  {
   "cell_type": "code",
   "execution_count": 42,
   "id": "0dffb3b7",
   "metadata": {},
   "outputs": [
    {
     "data": {
      "text/html": [
       "<div>\n",
       "<style scoped>\n",
       "    .dataframe tbody tr th:only-of-type {\n",
       "        vertical-align: middle;\n",
       "    }\n",
       "\n",
       "    .dataframe tbody tr th {\n",
       "        vertical-align: top;\n",
       "    }\n",
       "\n",
       "    .dataframe thead th {\n",
       "        text-align: right;\n",
       "    }\n",
       "</style>\n",
       "<table border=\"1\" class=\"dataframe\">\n",
       "  <thead>\n",
       "    <tr style=\"text-align: right;\">\n",
       "      <th></th>\n",
       "      <th>id</th>\n",
       "      <th>order_id</th>\n",
       "      <th>quantity</th>\n",
       "      <th>item_name</th>\n",
       "      <th>choice_description</th>\n",
       "      <th>item_price</th>\n",
       "    </tr>\n",
       "  </thead>\n",
       "  <tbody>\n",
       "    <tr>\n",
       "      <th>0</th>\n",
       "      <td>1</td>\n",
       "      <td>1</td>\n",
       "      <td>1</td>\n",
       "      <td>Chips and Fresh Tomato Salsa</td>\n",
       "      <td>nan</td>\n",
       "      <td>$2.39</td>\n",
       "    </tr>\n",
       "    <tr>\n",
       "      <th>1</th>\n",
       "      <td>2</td>\n",
       "      <td>1</td>\n",
       "      <td>1</td>\n",
       "      <td>Izze</td>\n",
       "      <td>[Clementine]</td>\n",
       "      <td>$3.39</td>\n",
       "    </tr>\n",
       "    <tr>\n",
       "      <th>2</th>\n",
       "      <td>3</td>\n",
       "      <td>1</td>\n",
       "      <td>1</td>\n",
       "      <td>Nantucket Nectar</td>\n",
       "      <td>[Apple]</td>\n",
       "      <td>$3.39</td>\n",
       "    </tr>\n",
       "    <tr>\n",
       "      <th>3</th>\n",
       "      <td>4</td>\n",
       "      <td>1</td>\n",
       "      <td>1</td>\n",
       "      <td>Chips and Tomatillo-Green Chili Salsa</td>\n",
       "      <td>nan</td>\n",
       "      <td>$2.39</td>\n",
       "    </tr>\n",
       "    <tr>\n",
       "      <th>4</th>\n",
       "      <td>5</td>\n",
       "      <td>2</td>\n",
       "      <td>2</td>\n",
       "      <td>Chicken Bowl</td>\n",
       "      <td>[Tomatillo-Red Chili Salsa (Hot), [Black Beans...</td>\n",
       "      <td>$16.98</td>\n",
       "    </tr>\n",
       "    <tr>\n",
       "      <th>5</th>\n",
       "      <td>6</td>\n",
       "      <td>3</td>\n",
       "      <td>1</td>\n",
       "      <td>Chicken Bowl</td>\n",
       "      <td>[Fresh Tomato Salsa (Mild), [Rice, Cheese, Sou...</td>\n",
       "      <td>$10.98</td>\n",
       "    </tr>\n",
       "    <tr>\n",
       "      <th>6</th>\n",
       "      <td>7</td>\n",
       "      <td>3</td>\n",
       "      <td>1</td>\n",
       "      <td>Side of Chips</td>\n",
       "      <td>nan</td>\n",
       "      <td>$1.69</td>\n",
       "    </tr>\n",
       "    <tr>\n",
       "      <th>7</th>\n",
       "      <td>8</td>\n",
       "      <td>4</td>\n",
       "      <td>1</td>\n",
       "      <td>Steak Burrito</td>\n",
       "      <td>[Tomatillo Red Chili Salsa, [Fajita Vegetables...</td>\n",
       "      <td>$11.75</td>\n",
       "    </tr>\n",
       "    <tr>\n",
       "      <th>8</th>\n",
       "      <td>9</td>\n",
       "      <td>4</td>\n",
       "      <td>1</td>\n",
       "      <td>Steak Soft Tacos</td>\n",
       "      <td>[Tomatillo Green Chili Salsa, [Pinto Beans, Ch...</td>\n",
       "      <td>$9.25</td>\n",
       "    </tr>\n",
       "    <tr>\n",
       "      <th>9</th>\n",
       "      <td>10</td>\n",
       "      <td>5</td>\n",
       "      <td>1</td>\n",
       "      <td>Steak Burrito</td>\n",
       "      <td>[Fresh Tomato Salsa, [Rice, Black Beans, Pinto...</td>\n",
       "      <td>$9.25</td>\n",
       "    </tr>\n",
       "  </tbody>\n",
       "</table>\n",
       "</div>"
      ],
      "text/plain": [
       "   id  order_id  quantity                              item_name  \\\n",
       "0   1         1         1           Chips and Fresh Tomato Salsa   \n",
       "1   2         1         1                                   Izze   \n",
       "2   3         1         1                       Nantucket Nectar   \n",
       "3   4         1         1  Chips and Tomatillo-Green Chili Salsa   \n",
       "4   5         2         2                           Chicken Bowl   \n",
       "5   6         3         1                           Chicken Bowl   \n",
       "6   7         3         1                          Side of Chips   \n",
       "7   8         4         1                          Steak Burrito   \n",
       "8   9         4         1                       Steak Soft Tacos   \n",
       "9  10         5         1                          Steak Burrito   \n",
       "\n",
       "                                  choice_description item_price  \n",
       "0                                                nan     $2.39   \n",
       "1                                       [Clementine]     $3.39   \n",
       "2                                            [Apple]     $3.39   \n",
       "3                                                nan     $2.39   \n",
       "4  [Tomatillo-Red Chili Salsa (Hot), [Black Beans...    $16.98   \n",
       "5  [Fresh Tomato Salsa (Mild), [Rice, Cheese, Sou...    $10.98   \n",
       "6                                                nan     $1.69   \n",
       "7  [Tomatillo Red Chili Salsa, [Fajita Vegetables...    $11.75   \n",
       "8  [Tomatillo Green Chili Salsa, [Pinto Beans, Ch...     $9.25   \n",
       "9  [Fresh Tomato Salsa, [Rice, Black Beans, Pinto...     $9.25   "
      ]
     },
     "execution_count": 42,
     "metadata": {},
     "output_type": "execute_result"
    }
   ],
   "source": [
    "chip.head(10)"
   ]
  },
  {
   "cell_type": "code",
   "execution_count": 43,
   "id": "ef956ddf",
   "metadata": {},
   "outputs": [
    {
     "data": {
      "text/html": [
       "<div>\n",
       "<style scoped>\n",
       "    .dataframe tbody tr th:only-of-type {\n",
       "        vertical-align: middle;\n",
       "    }\n",
       "\n",
       "    .dataframe tbody tr th {\n",
       "        vertical-align: top;\n",
       "    }\n",
       "\n",
       "    .dataframe thead th {\n",
       "        text-align: right;\n",
       "    }\n",
       "</style>\n",
       "<table border=\"1\" class=\"dataframe\">\n",
       "  <thead>\n",
       "    <tr style=\"text-align: right;\">\n",
       "      <th></th>\n",
       "      <th>id</th>\n",
       "      <th>order_id</th>\n",
       "      <th>quantity</th>\n",
       "    </tr>\n",
       "  </thead>\n",
       "  <tbody>\n",
       "    <tr>\n",
       "      <th>count</th>\n",
       "      <td>4622.000000</td>\n",
       "      <td>4622.000000</td>\n",
       "      <td>4622.000000</td>\n",
       "    </tr>\n",
       "    <tr>\n",
       "      <th>mean</th>\n",
       "      <td>2311.500000</td>\n",
       "      <td>927.254868</td>\n",
       "      <td>1.075725</td>\n",
       "    </tr>\n",
       "    <tr>\n",
       "      <th>std</th>\n",
       "      <td>1334.400802</td>\n",
       "      <td>528.890796</td>\n",
       "      <td>0.410186</td>\n",
       "    </tr>\n",
       "    <tr>\n",
       "      <th>min</th>\n",
       "      <td>1.000000</td>\n",
       "      <td>1.000000</td>\n",
       "      <td>1.000000</td>\n",
       "    </tr>\n",
       "    <tr>\n",
       "      <th>25%</th>\n",
       "      <td>1156.250000</td>\n",
       "      <td>477.250000</td>\n",
       "      <td>1.000000</td>\n",
       "    </tr>\n",
       "    <tr>\n",
       "      <th>50%</th>\n",
       "      <td>2311.500000</td>\n",
       "      <td>926.000000</td>\n",
       "      <td>1.000000</td>\n",
       "    </tr>\n",
       "    <tr>\n",
       "      <th>75%</th>\n",
       "      <td>3466.750000</td>\n",
       "      <td>1393.000000</td>\n",
       "      <td>1.000000</td>\n",
       "    </tr>\n",
       "    <tr>\n",
       "      <th>max</th>\n",
       "      <td>4622.000000</td>\n",
       "      <td>1834.000000</td>\n",
       "      <td>15.000000</td>\n",
       "    </tr>\n",
       "  </tbody>\n",
       "</table>\n",
       "</div>"
      ],
      "text/plain": [
       "                id     order_id     quantity\n",
       "count  4622.000000  4622.000000  4622.000000\n",
       "mean   2311.500000   927.254868     1.075725\n",
       "std    1334.400802   528.890796     0.410186\n",
       "min       1.000000     1.000000     1.000000\n",
       "25%    1156.250000   477.250000     1.000000\n",
       "50%    2311.500000   926.000000     1.000000\n",
       "75%    3466.750000  1393.000000     1.000000\n",
       "max    4622.000000  1834.000000    15.000000"
      ]
     },
     "execution_count": 43,
     "metadata": {},
     "output_type": "execute_result"
    }
   ],
   "source": [
    "chip.describe()"
   ]
  },
  {
   "cell_type": "code",
   "execution_count": 44,
   "id": "a2ee369d",
   "metadata": {},
   "outputs": [
    {
     "name": "stdout",
     "output_type": "stream",
     "text": [
      "<class 'pandas.core.frame.DataFrame'>\n",
      "RangeIndex: 4622 entries, 0 to 4621\n",
      "Data columns (total 6 columns):\n",
      " #   Column              Non-Null Count  Dtype \n",
      "---  ------              --------------  ----- \n",
      " 0   id                  4622 non-null   int64 \n",
      " 1   order_id            4622 non-null   int64 \n",
      " 2   quantity            4622 non-null   int64 \n",
      " 3   item_name           4622 non-null   object\n",
      " 4   choice_description  4622 non-null   object\n",
      " 5   item_price          4622 non-null   object\n",
      "dtypes: int64(3), object(3)\n",
      "memory usage: 216.8+ KB\n"
     ]
    }
   ],
   "source": [
    "chip.info()"
   ]
  },
  {
   "cell_type": "code",
   "execution_count": 70,
   "id": "c5046953",
   "metadata": {},
   "outputs": [],
   "source": [
    "chip.to_csv('chipotle.csv')"
   ]
  },
  {
   "cell_type": "markdown",
   "id": "c83b0a74",
   "metadata": {},
   "source": [
    "2. What is the total price for each order?"
   ]
  },
  {
   "cell_type": "code",
   "execution_count": 46,
   "id": "7bb20b55",
   "metadata": {},
   "outputs": [
    {
     "data": {
      "text/plain": [
       "order_id  item_name                            \n",
       "1         Chips and Fresh Tomato Salsa                          $2.39 \n",
       "          Chips and Tomatillo-Green Chili Salsa                 $2.39 \n",
       "          Izze                                                  $3.39 \n",
       "          Nantucket Nectar                                      $3.39 \n",
       "2         Chicken Bowl                                         $16.98 \n",
       "                                                          ...         \n",
       "1831      Chips                                                 $2.15 \n",
       "1832      Chicken Soft Tacos                                    $8.75 \n",
       "          Chips and Guacamole                                   $4.45 \n",
       "1833      Steak Burrito                                 $11.75 $11.75 \n",
       "1834      Chicken Salad Bowl                       $11.25 $8.75 $8.75 \n",
       "Name: item_price, Length: 4292, dtype: object"
      ]
     },
     "execution_count": 46,
     "metadata": {},
     "output_type": "execute_result"
    }
   ],
   "source": [
    "chip.groupby(['order_id', 'item_name']).item_price.agg('sum')"
   ]
  },
  {
   "cell_type": "code",
   "execution_count": 66,
   "id": "2e6a8278",
   "metadata": {},
   "outputs": [],
   "source": [
    "chip['item_price_num'] = chip.item_price.str.strip('$').astype(float)"
   ]
  },
  {
   "cell_type": "code",
   "execution_count": 75,
   "id": "d5072add",
   "metadata": {
    "scrolled": true
   },
   "outputs": [],
   "source": [
    "order_price = chip.groupby(['order_id']).item_price_num.sum()"
   ]
  },
  {
   "cell_type": "code",
   "execution_count": 76,
   "id": "c1e30f8d",
   "metadata": {},
   "outputs": [
    {
     "data": {
      "text/plain": [
       "order_id\n",
       "1       11.56\n",
       "2       16.98\n",
       "3       12.67\n",
       "4       21.00\n",
       "5       13.70\n",
       "        ...  \n",
       "1830    23.00\n",
       "1831    12.90\n",
       "1832    13.20\n",
       "1833    23.50\n",
       "1834    28.75\n",
       "Name: item_price_num, Length: 1834, dtype: float64"
      ]
     },
     "execution_count": 76,
     "metadata": {},
     "output_type": "execute_result"
    }
   ],
   "source": [
    "order_price"
   ]
  },
  {
   "cell_type": "code",
   "execution_count": 77,
   "id": "b16b8c6e",
   "metadata": {},
   "outputs": [
    {
     "data": {
      "text/plain": [
       "count    1834.000000\n",
       "mean       18.811429\n",
       "std        11.652512\n",
       "min        10.080000\n",
       "25%        12.572500\n",
       "50%        16.200000\n",
       "75%        21.960000\n",
       "max       205.250000\n",
       "Name: item_price_num, dtype: float64"
      ]
     },
     "execution_count": 77,
     "metadata": {},
     "output_type": "execute_result"
    }
   ],
   "source": [
    "order_price.describe()"
   ]
  },
  {
   "cell_type": "code",
   "execution_count": 78,
   "id": "07ff8dc6",
   "metadata": {},
   "outputs": [],
   "source": [
    "import matplotlib.pyplot as plt"
   ]
  },
  {
   "cell_type": "code",
   "execution_count": 81,
   "id": "041ee19c",
   "metadata": {},
   "outputs": [
    {
     "data": {
      "image/png": "[encoded data removed]",
      "text/plain": [
       "<Figure size 432x288 with 1 Axes>"
      ]
     },
     "metadata": {
      "needs_background": "light"
     },
     "output_type": "display_data"
    }
   ],
   "source": [
    "plt.plot(order_price)\n",
    "plt.show()"
   ]
  },
  {
   "cell_type": "code",
   "execution_count": 88,
   "id": "61747142",
   "metadata": {},
   "outputs": [],
   "source": [
    "norm_op = (order_price - order_price.mean()) / order_price.std()"
   ]
  },
  {
   "cell_type": "code",
   "execution_count": 90,
   "id": "cd5cf1c5",
   "metadata": {},
   "outputs": [
    {
     "data": {
      "text/plain": [
       "count    1834.0\n",
       "mean       -0.0\n",
       "std         1.0\n",
       "min        -1.0\n",
       "25%        -1.0\n",
       "50%        -0.0\n",
       "75%         0.0\n",
       "max        16.0\n",
       "Name: item_price_num, dtype: float64"
      ]
     },
     "execution_count": 90,
     "metadata": {},
     "output_type": "execute_result"
    }
   ],
   "source": [
    "round(norm_op.describe())"
   ]
  },
  {
   "cell_type": "markdown",
   "id": "698bf4d3",
   "metadata": {},
   "source": [
    "3. What are the most popular 3 items?"
   ]
  },
  {
   "cell_type": "code",
   "execution_count": 71,
   "id": "e0a9d276",
   "metadata": {},
   "outputs": [
    {
     "data": {
      "text/plain": [
       "item_name\n",
       "Chicken Bowl           761\n",
       "Chicken Burrito        591\n",
       "Chips and Guacamole    506\n",
       "Name: quantity, dtype: int64"
      ]
     },
     "execution_count": 71,
     "metadata": {},
     "output_type": "execute_result"
    }
   ],
   "source": [
    "# groupby chip.item_name as below \n",
    "# grab the quantity and get their sums\n",
    "# sort by the values and do it desc be setting ascending to False\n",
    "# grab the first 3 from the head\n",
    "chip.groupby('item_name').quantity.sum().sort_values(ascending=False).head(3)"
   ]
  },
  {
   "cell_type": "markdown",
   "id": "3d4b4db0",
   "metadata": {},
   "source": [
    "4. Which item has produced the most revenue?"
   ]
  },
  {
   "cell_type": "code",
   "execution_count": 69,
   "id": "673919b6",
   "metadata": {},
   "outputs": [
    {
     "data": {
      "text/plain": [
       "item_name\n",
       "Chicken Bowl    7342.73\n",
       "Name: item_price_num, dtype: float64"
      ]
     },
     "execution_count": 69,
     "metadata": {},
     "output_type": "execute_result"
    }
   ],
   "source": [
    "chip.groupby('item_name').item_price_num.sum().nlargest(1)"
   ]
  },
  {
   "cell_type": "markdown",
   "id": "ff161f8c",
   "metadata": {},
   "source": [
    "5. Using the `titles` DataFrame, visualize the number of employees with each title."
   ]
  },
  {
   "cell_type": "code",
   "execution_count": null,
   "id": "cc253177",
   "metadata": {},
   "outputs": [],
   "source": []
  },
  {
   "cell_type": "markdown",
   "id": "c49d9ce2",
   "metadata": {},
   "source": [
    "6. Join the `employees` and `titles` DataFrames together."
   ]
  },
  {
   "cell_type": "code",
   "execution_count": null,
   "id": "3ea5411a",
   "metadata": {},
   "outputs": [],
   "source": []
  },
  {
   "cell_type": "markdown",
   "id": "93a31e57",
   "metadata": {},
   "source": [
    "7. Visualize how frequently employees change titles."
   ]
  },
  {
   "cell_type": "code",
   "execution_count": null,
   "id": "438685bc",
   "metadata": {},
   "outputs": [],
   "source": []
  },
  {
   "cell_type": "markdown",
   "id": "91f6dc78",
   "metadata": {},
   "source": [
    "8. For each title, find the hire date of the employee that was hired most recently with that title."
   ]
  },
  {
   "cell_type": "code",
   "execution_count": null,
   "id": "bedd5010",
   "metadata": {},
   "outputs": [],
   "source": []
  },
  {
   "cell_type": "markdown",
   "id": "9976b424-b6b2-4094-be66-c3264cc7e866",
   "metadata": {},
   "source": [
    "9. Write the code necessary to create a cross tabulation of the number of titles by department. (Hint: this will involve a combination of SQL code to pull the necessary data and python/pandas code to perform the manipulations.)"
   ]
  },
  {
   "cell_type": "code",
   "execution_count": null,
   "id": "f6dc0f9b",
   "metadata": {},
   "outputs": [],
   "source": []
  }
 ],
 "metadata": {
  "kernelspec": {
   "display_name": "Python 3 (ipykernel)",
   "language": "python",
   "name": "python3"
  },
  "language_info": {
   "codemirror_mode": {
    "name": "ipython",
    "version": 3
   },
   "file_extension": ".py",
   "mimetype": "text/x-python",
   "name": "python",
   "nbconvert_exporter": "python",
   "pygments_lexer": "ipython3",
   "version": "3.9.12"
  }
 },
 "nbformat": 4,
 "nbformat_minor": 5
}
