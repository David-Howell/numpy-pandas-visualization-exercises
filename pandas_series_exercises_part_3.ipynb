{
 "cells": [
  {
   "cell_type": "markdown",
   "id": "396a4c42",
   "metadata": {},
   "source": [
    "# Exercises Part III"
   ]
  },
  {
   "cell_type": "markdown",
   "id": "523b4f5f",
   "metadata": {},
   "source": [
    "Use pandas to create a Series named letters from the following string. The easiest way to make this string into a Pandas series is to use list to convert each individual letter into a single string on a basic Python list.\n",
    "   "
   ]
  },
  {
   "cell_type": "markdown",
   "id": "149bf167",
   "metadata": {},
   "source": [
    "'hnvidduckkqxwymbimkccexbkmqygkxoyndmcxnwqarhyffsjpsrabtjzsypmzadfavyrnndndvswreauxovncxtwzpwejilzjrmmbbgbyxvjtewqthafnbkqplarokkyydtubbmnexoypulzwfhqvckdpqtpoppzqrmcvhhpwgjwupgzhiofohawytlsiyecuproguy'"
   ]
  },
  {
   "cell_type": "code",
   "execution_count": null,
   "id": "f4997939",
   "metadata": {},
   "outputs": [],
   "source": [
    "import pandas as pd\n",
    "x = list('hnvidduckkqxwymbimkccexbkmqygkxoyndmcxnwqarhyffsjpsrabtjzsypmzadfavyrnndndvswreauxovncxtwzpwejilzjrmmbbgbyxvjtewqthafnbkqplarokkyydtubbmnexoypulzwfhqvckdpqtpoppzqrmcvhhpwgjwupgzhiofohawytlsiyecuproguy')"
   ]
  },
  {
   "cell_type": "markdown",
   "id": "d7bb29ae",
   "metadata": {},
   "source": [
    "1. Which letter occurs the most frequently in the letters Series?"
   ]
  },
  {
   "cell_type": "code",
   "execution_count": null,
   "id": "cf101bbb",
   "metadata": {},
   "outputs": [],
   "source": [
    "pd.Series(x)"
   ]
  },
  {
   "cell_type": "code",
   "execution_count": null,
   "id": "93b4adc3",
   "metadata": {},
   "outputs": [],
   "source": [
    "xs = pd.Series(x)"
   ]
  },
  {
   "cell_type": "code",
   "execution_count": null,
   "id": "67a6c69f",
   "metadata": {},
   "outputs": [],
   "source": [
    "type(x), type(xs)"
   ]
  },
  {
   "cell_type": "code",
   "execution_count": null,
   "id": "784e8b26",
   "metadata": {},
   "outputs": [],
   "source": [
    "xs.count()"
   ]
  },
  {
   "cell_type": "code",
   "execution_count": null,
   "id": "00c14645",
   "metadata": {},
   "outputs": [],
   "source": [
    "xs.unique()"
   ]
  },
  {
   "cell_type": "code",
   "execution_count": null,
   "id": "46d2c4a7",
   "metadata": {},
   "outputs": [],
   "source": [
    "x.count('a')"
   ]
  },
  {
   "cell_type": "code",
   "execution_count": null,
   "id": "f8171b41",
   "metadata": {},
   "outputs": [],
   "source": [
    "x.count(i for i in x)"
   ]
  },
  {
   "cell_type": "code",
   "execution_count": null,
   "id": "a60b3b3c",
   "metadata": {},
   "outputs": [],
   "source": [
    "xs[xs=='a']"
   ]
  },
  {
   "cell_type": "code",
   "execution_count": null,
   "id": "64bdceef",
   "metadata": {},
   "outputs": [],
   "source": [
    "xs.value_counts()"
   ]
  },
  {
   "cell_type": "code",
   "execution_count": null,
   "id": "90a52f31",
   "metadata": {},
   "outputs": [],
   "source": [
    "xs.value_counts()[xs.value_counts().max()], xs[7], xs[8], xs[9]"
   ]
  },
  {
   "cell_type": "markdown",
   "id": "e744ca90",
   "metadata": {},
   "source": [
    "This is interesting...\n",
    "when you take the value_counts WHERE the value counts are .max()\n",
    "that show you which value count (8) is most frequent"
   ]
  },
  {
   "cell_type": "code",
   "execution_count": null,
   "id": "7a23ca33",
   "metadata": {},
   "outputs": [],
   "source": [
    "# this shows the last letter 'z' or the max string value...\n",
    "xs.max()"
   ]
  },
  {
   "cell_type": "code",
   "execution_count": null,
   "id": "4b4e6d79",
   "metadata": {},
   "outputs": [],
   "source": [
    "xs.value_counts().max()"
   ]
  },
  {
   "cell_type": "code",
   "execution_count": null,
   "id": "0e0caca8",
   "metadata": {},
   "outputs": [],
   "source": [
    "xs.mode()"
   ]
  },
  {
   "cell_type": "code",
   "execution_count": null,
   "id": "833a5842",
   "metadata": {},
   "outputs": [],
   "source": [
    "xs.value_counts().index[0]"
   ]
  },
  {
   "cell_type": "markdown",
   "id": "e17bd722",
   "metadata": {},
   "source": [
    "2. Which letter occurs the Least frequently?"
   ]
  },
  {
   "cell_type": "code",
   "execution_count": null,
   "id": "7aae333d",
   "metadata": {},
   "outputs": [],
   "source": [
    "xs.value_counts().index[-1]"
   ]
  },
  {
   "cell_type": "markdown",
   "id": "150abda5",
   "metadata": {},
   "source": [
    "3. How many vowels are in the Series?"
   ]
  },
  {
   "cell_type": "code",
   "execution_count": null,
   "id": "cb463898",
   "metadata": {},
   "outputs": [],
   "source": [
    "xs[xs.isin(['a','e','i','o','u'])].count()"
   ]
  },
  {
   "cell_type": "code",
   "execution_count": null,
   "id": "6b5a74d5",
   "metadata": {},
   "outputs": [],
   "source": [
    "# xs.value_counts().index.isin(['aeiou'])"
   ]
  },
  {
   "cell_type": "code",
   "execution_count": null,
   "id": "90f820ea",
   "metadata": {},
   "outputs": [],
   "source": [
    "# xs.value_counts[xs.isin(['aeiou'])]"
   ]
  },
  {
   "cell_type": "code",
   "execution_count": null,
   "id": "4eafa636",
   "metadata": {},
   "outputs": [],
   "source": [
    "# xsvc = xs.value_counts()"
   ]
  },
  {
   "cell_type": "code",
   "execution_count": null,
   "id": "6c4f503e",
   "metadata": {},
   "outputs": [],
   "source": [
    "# xsvc[xsvc.index.isin(['aeiou'])]"
   ]
  },
  {
   "cell_type": "code",
   "execution_count": null,
   "id": "d0a0ae46",
   "metadata": {},
   "outputs": [],
   "source": [
    "# xsvc[xs.isin(['aeiou'])]"
   ]
  },
  {
   "cell_type": "code",
   "execution_count": null,
   "id": "bfcddb47",
   "metadata": {},
   "outputs": [],
   "source": [
    "# xsvc['a']"
   ]
  },
  {
   "cell_type": "code",
   "execution_count": null,
   "id": "434de1d1",
   "metadata": {},
   "outputs": [],
   "source": [
    "# list['aeiou']"
   ]
  },
  {
   "cell_type": "markdown",
   "id": "d80a9460",
   "metadata": {},
   "source": [
    "4. How many consonants are in the Series?"
   ]
  },
  {
   "cell_type": "code",
   "execution_count": null,
   "id": "652ab672",
   "metadata": {},
   "outputs": [],
   "source": [
    "consonants = list('qwrtypsdfghjklzxcvbnm')\n",
    "consonants"
   ]
  },
  {
   "cell_type": "code",
   "execution_count": null,
   "id": "01996cd9",
   "metadata": {},
   "outputs": [],
   "source": [
    "xs[xs.isin(consonants)].count()"
   ]
  },
  {
   "cell_type": "markdown",
   "id": "c046cc84",
   "metadata": {},
   "source": [
    "5. Create a Series that has all of the same letters but uppercased."
   ]
  },
  {
   "cell_type": "code",
   "execution_count": null,
   "id": "0eab8ffb",
   "metadata": {},
   "outputs": [],
   "source": [
    "xs.str.capitalize()"
   ]
  },
  {
   "cell_type": "markdown",
   "id": "1cccd5be",
   "metadata": {},
   "source": [
    "6. Create a bar plot of the frequencies of the 6 most commonly occuring letters."
   ]
  },
  {
   "cell_type": "code",
   "execution_count": null,
   "id": "0d8411d8",
   "metadata": {},
   "outputs": [],
   "source": [
    "xs.value_counts().head(6).plot()"
   ]
  },
  {
   "cell_type": "markdown",
   "id": "fc723623",
   "metadata": {},
   "source": [
    "### Use pandas to create a Series named numbers from the following list:"
   ]
  },
  {
   "cell_type": "markdown",
   "id": "824590bb",
   "metadata": {},
   "source": [
    "    ['$796,459.41', '$278.60', '$482,571.67', '$4,503,915.98', '$2,121,418.3', '$1,260,813.3', '$87,231.01', '$1,509,175.45', '$4,138,548.00', '$2,848,913.80', '$594,715.39', '$4,789,988.17', '$4,513,644.5', '$3,191,059.97', '$1,758,712.24', '$4,338,283.54', '$4,738,303.38', '$2,791,759.67', '$769,681.94', '$452,650.23']"
   ]
  },
  {
   "cell_type": "code",
   "execution_count": null,
   "id": "7cb7e5eb",
   "metadata": {},
   "outputs": [],
   "source": [
    "a = pd.Series(['$796,459.41', '$278.60', '$482,571.67', '$4,503,915.98', '$2,121,418.3', '$1,260,813.3', '$87,231.01', '$1,509,175.45', '$4,138,548.00', '$2,848,913.80', '$594,715.39', '$4,789,988.17', '$4,513,644.5', '$3,191,059.97', '$1,758,712.24', '$4,338,283.54', '$4,738,303.38', '$2,791,759.67', '$769,681.94', '$452,650.23'])"
   ]
  },
  {
   "cell_type": "code",
   "execution_count": 96,
   "id": "c3074c81",
   "metadata": {},
   "outputs": [
    {
     "data": {
      "text/plain": [
       "0       $796,459.41\n",
       "1           $278.60\n",
       "2       $482,571.67\n",
       "3     $4,503,915.98\n",
       "4      $2,121,418.3\n",
       "5      $1,260,813.3\n",
       "6        $87,231.01\n",
       "7     $1,509,175.45\n",
       "8     $4,138,548.00\n",
       "9     $2,848,913.80\n",
       "10      $594,715.39\n",
       "11    $4,789,988.17\n",
       "12     $4,513,644.5\n",
       "13    $3,191,059.97\n",
       "14    $1,758,712.24\n",
       "15    $4,338,283.54\n",
       "16    $4,738,303.38\n",
       "17    $2,791,759.67\n",
       "18      $769,681.94\n",
       "19      $452,650.23\n",
       "dtype: object"
      ]
     },
     "execution_count": 96,
     "metadata": {},
     "output_type": "execute_result"
    }
   ],
   "source": [
    "a"
   ]
  },
  {
   "cell_type": "markdown",
   "id": "0d101d54",
   "metadata": {},
   "source": [
    "1. What is the data type of the numbers Series?"
   ]
  },
  {
   "cell_type": "code",
   "execution_count": 94,
   "id": "73c4cf09",
   "metadata": {},
   "outputs": [
    {
     "data": {
      "text/plain": [
       "dtype('O')"
      ]
     },
     "execution_count": 94,
     "metadata": {},
     "output_type": "execute_result"
    }
   ],
   "source": [
    "a.dtype"
   ]
  },
  {
   "cell_type": "markdown",
   "id": "a17b63f8",
   "metadata": {},
   "source": [
    "2. How many elements are in the number Series?"
   ]
  },
  {
   "cell_type": "code",
   "execution_count": 95,
   "id": "0749bb81",
   "metadata": {},
   "outputs": [
    {
     "data": {
      "text/plain": [
       "20"
      ]
     },
     "execution_count": 95,
     "metadata": {},
     "output_type": "execute_result"
    }
   ],
   "source": [
    "a.count()"
   ]
  },
  {
   "cell_type": "markdown",
   "id": "e0fc33aa",
   "metadata": {},
   "source": [
    "3. Perform the necessary manipulations by accessing Series attributes and methods to convert the numbers Series to a numeric data type."
   ]
  },
  {
   "cell_type": "code",
   "execution_count": 110,
   "id": "9dc4aecd",
   "metadata": {},
   "outputs": [
    {
     "name": "stderr",
     "output_type": "stream",
     "text": [
      "/var/folders/n7/p9r5pxl53g99g0h4q1_h50fr0000gn/T/ipykernel_70566/1709813967.py:2: FutureWarning: The default value of regex will change from True to False in a future version. In addition, single character regular expressions will *not* be treated as literal strings when regex=True.\n",
      "  a1 = a1.str.replace('$','')\n"
     ]
    }
   ],
   "source": [
    "a1 = a.str.replace(',','_')\n",
    "a1 = a1.str.replace('$','')"
   ]
  },
  {
   "cell_type": "code",
   "execution_count": 111,
   "id": "76d2d357",
   "metadata": {},
   "outputs": [
    {
     "data": {
      "text/plain": [
       "0       796_459.41\n",
       "1           278.60\n",
       "2       482_571.67\n",
       "3     4_503_915.98\n",
       "4      2_121_418.3\n",
       "5      1_260_813.3\n",
       "6        87_231.01\n",
       "7     1_509_175.45\n",
       "8     4_138_548.00\n",
       "9     2_848_913.80\n",
       "10      594_715.39\n",
       "11    4_789_988.17\n",
       "12     4_513_644.5\n",
       "13    3_191_059.97\n",
       "14    1_758_712.24\n",
       "15    4_338_283.54\n",
       "16    4_738_303.38\n",
       "17    2_791_759.67\n",
       "18      769_681.94\n",
       "19      452_650.23\n",
       "dtype: object"
      ]
     },
     "execution_count": 111,
     "metadata": {},
     "output_type": "execute_result"
    }
   ],
   "source": [
    "a1 "
   ]
  },
  {
   "cell_type": "code",
   "execution_count": 112,
   "id": "81f48b00",
   "metadata": {},
   "outputs": [],
   "source": [
    "a2 = a1.apply(lambda n: float(n))"
   ]
  },
  {
   "cell_type": "code",
   "execution_count": 113,
   "id": "b04def6d",
   "metadata": {},
   "outputs": [
    {
     "data": {
      "text/plain": [
       "0      796459.41\n",
       "1         278.60\n",
       "2      482571.67\n",
       "3     4503915.98\n",
       "4     2121418.30\n",
       "5     1260813.30\n",
       "6       87231.01\n",
       "7     1509175.45\n",
       "8     4138548.00\n",
       "9     2848913.80\n",
       "10     594715.39\n",
       "11    4789988.17\n",
       "12    4513644.50\n",
       "13    3191059.97\n",
       "14    1758712.24\n",
       "15    4338283.54\n",
       "16    4738303.38\n",
       "17    2791759.67\n",
       "18     769681.94\n",
       "19     452650.23\n",
       "dtype: float64"
      ]
     },
     "execution_count": 113,
     "metadata": {},
     "output_type": "execute_result"
    }
   ],
   "source": [
    "a2"
   ]
  },
  {
   "cell_type": "markdown",
   "id": "f8a032d8",
   "metadata": {},
   "source": [
    "4. Run the code to discover the maximum value from the Series."
   ]
  },
  {
   "cell_type": "code",
   "execution_count": 114,
   "id": "e2840689",
   "metadata": {},
   "outputs": [
    {
     "data": {
      "text/plain": [
       "4789988.17"
      ]
     },
     "execution_count": 114,
     "metadata": {},
     "output_type": "execute_result"
    }
   ],
   "source": [
    "a2.max()"
   ]
  },
  {
   "cell_type": "markdown",
   "id": "7db2f82b",
   "metadata": {},
   "source": [
    "5. Run the code to discover the minimum value from the Series."
   ]
  },
  {
   "cell_type": "code",
   "execution_count": 115,
   "id": "89c5afc9",
   "metadata": {},
   "outputs": [
    {
     "data": {
      "text/plain": [
       "278.6"
      ]
     },
     "execution_count": 115,
     "metadata": {},
     "output_type": "execute_result"
    }
   ],
   "source": [
    "a2.min()"
   ]
  },
  {
   "cell_type": "markdown",
   "id": "1c3b7a05",
   "metadata": {},
   "source": [
    "6. What is the range of the values in the Series?"
   ]
  },
  {
   "cell_type": "code",
   "execution_count": 117,
   "id": "a27869de",
   "metadata": {},
   "outputs": [
    {
     "data": {
      "text/plain": [
       "4789709.57"
      ]
     },
     "execution_count": 117,
     "metadata": {},
     "output_type": "execute_result"
    }
   ],
   "source": [
    "a2.max() - a2.min()"
   ]
  },
  {
   "cell_type": "markdown",
   "id": "2cd913a4",
   "metadata": {},
   "source": [
    "7. Bin the data into 4 equally sized intervals or bins and output how many values fall into each bin."
   ]
  },
  {
   "cell_type": "code",
   "execution_count": 119,
   "id": "81b1e317",
   "metadata": {},
   "outputs": [
    {
     "data": {
      "text/plain": [
       "0        (-4511.11, 1197705.993]\n",
       "1        (-4511.11, 1197705.993]\n",
       "2        (-4511.11, 1197705.993]\n",
       "3      (3592560.778, 4789988.17]\n",
       "4     (1197705.993, 2395133.385]\n",
       "5     (1197705.993, 2395133.385]\n",
       "6        (-4511.11, 1197705.993]\n",
       "7     (1197705.993, 2395133.385]\n",
       "8      (3592560.778, 4789988.17]\n",
       "9     (2395133.385, 3592560.778]\n",
       "10       (-4511.11, 1197705.993]\n",
       "11     (3592560.778, 4789988.17]\n",
       "12     (3592560.778, 4789988.17]\n",
       "13    (2395133.385, 3592560.778]\n",
       "14    (1197705.993, 2395133.385]\n",
       "15     (3592560.778, 4789988.17]\n",
       "16     (3592560.778, 4789988.17]\n",
       "17    (2395133.385, 3592560.778]\n",
       "18       (-4511.11, 1197705.993]\n",
       "19       (-4511.11, 1197705.993]\n",
       "dtype: category\n",
       "Categories (4, interval[float64, right]): [(-4511.11, 1197705.993] < (1197705.993, 2395133.385] < (2395133.385, 3592560.778] < (3592560.778, 4789988.17]]"
      ]
     },
     "execution_count": 119,
     "metadata": {},
     "output_type": "execute_result"
    }
   ],
   "source": [
    "a2_bins4 = pd.cut(a2, 4)\n",
    "a2_bins4"
   ]
  },
  {
   "cell_type": "code",
   "execution_count": 163,
   "id": "379bd896",
   "metadata": {},
   "outputs": [
    {
     "data": {
      "text/plain": [
       "(-4511.11, 1197705.993]       7\n",
       "(3592560.778, 4789988.17]     6\n",
       "(1197705.993, 2395133.385]    4\n",
       "(2395133.385, 3592560.778]    3\n",
       "dtype: int64"
      ]
     },
     "execution_count": 163,
     "metadata": {},
     "output_type": "execute_result"
    }
   ],
   "source": [
    "a2_bins4.value_counts()"
   ]
  },
  {
   "cell_type": "markdown",
   "id": "7520f15c",
   "metadata": {},
   "source": [
    "8. Plot the binned data in a meaningful way. Be sure to include a title and axis labels."
   ]
  },
  {
   "cell_type": "code",
   "execution_count": 131,
   "id": "41f4d751",
   "metadata": {},
   "outputs": [
    {
     "data": {
      "text/plain": [
       "Text(0, 0.5, 'Number of times an amount is in each bin')"
      ]
     },
     "execution_count": 131,
     "metadata": {},
     "output_type": "execute_result"
    },
    {
     "data": {
      "image/png": "[encoded data removed]",
      "text/plain": [
       "<Figure size 432x288 with 1 Axes>"
      ]
     },
     "metadata": {
      "needs_background": "light"
     },
     "output_type": "display_data"
    }
   ],
   "source": [
    "a2_bins4_plot = a2_bins4.value_counts().plot(title = 'Dollar amounts in each of 4 bins')\n",
    "a2_bins4_plot.set_xlabel('Dollars amounts fitting in different bins')\n",
    "a2_bins4_plot.set_ylabel('Number of times an amount is in each bin')"
   ]
  },
  {
   "cell_type": "markdown",
   "id": "f09b6438",
   "metadata": {},
   "source": [
    "### Use pandas to create a Series named exam_scores from the following list:"
   ]
  },
  {
   "cell_type": "markdown",
   "id": "de39ba78",
   "metadata": {},
   "source": [
    "    [60, 86, 75, 62, 93, 71, 60, 83, 95, 78, 65, 72, 69, 81, 96, 80, 85, 92, 82, 78]"
   ]
  },
  {
   "cell_type": "code",
   "execution_count": 122,
   "id": "f7ad59b7",
   "metadata": {},
   "outputs": [
    {
     "data": {
      "text/plain": [
       "0     60\n",
       "1     86\n",
       "2     75\n",
       "3     62\n",
       "4     93\n",
       "5     71\n",
       "6     60\n",
       "7     83\n",
       "8     95\n",
       "9     78\n",
       "10    65\n",
       "11    72\n",
       "12    69\n",
       "13    81\n",
       "14    96\n",
       "15    80\n",
       "16    85\n",
       "17    92\n",
       "18    82\n",
       "19    78\n",
       "dtype: int64"
      ]
     },
     "execution_count": 122,
     "metadata": {},
     "output_type": "execute_result"
    }
   ],
   "source": [
    "exam_scores = pd.Series([60, 86, 75, 62, 93, 71, 60, 83, 95, 78, 65, 72, 69, 81, 96, 80, 85, 92, 82, 78])\n",
    "exam_scores"
   ]
  },
  {
   "cell_type": "markdown",
   "id": "d1a8b07a",
   "metadata": {},
   "source": [
    "1. How many elements are in the exam_scores Series?"
   ]
  },
  {
   "cell_type": "code",
   "execution_count": 123,
   "id": "65c40a41",
   "metadata": {},
   "outputs": [
    {
     "data": {
      "text/plain": [
       "20"
      ]
     },
     "execution_count": 123,
     "metadata": {},
     "output_type": "execute_result"
    }
   ],
   "source": [
    "exam_scores.count()"
   ]
  },
  {
   "cell_type": "markdown",
   "id": "41ba6e33",
   "metadata": {},
   "source": [
    "2. Run the code to discover the minimum, the maximum, the mean, and the median scores for the exam_scores Series."
   ]
  },
  {
   "cell_type": "code",
   "execution_count": 124,
   "id": "acad01aa",
   "metadata": {},
   "outputs": [
    {
     "data": {
      "text/plain": [
       "count    20.000000\n",
       "mean     78.150000\n",
       "std      11.352139\n",
       "min      60.000000\n",
       "25%      70.500000\n",
       "50%      79.000000\n",
       "75%      85.250000\n",
       "max      96.000000\n",
       "dtype: float64"
      ]
     },
     "execution_count": 124,
     "metadata": {},
     "output_type": "execute_result"
    }
   ],
   "source": [
    "exam_scores.describe()"
   ]
  },
  {
   "cell_type": "code",
   "execution_count": 132,
   "id": "ed27bf4a",
   "metadata": {},
   "outputs": [
    {
     "data": {
      "text/plain": [
       "(60, 96, 78.15, 79.0)"
      ]
     },
     "execution_count": 132,
     "metadata": {},
     "output_type": "execute_result"
    }
   ],
   "source": [
    "exam_scores.min(), exam_scores.max(), exam_scores.mean(), exam_scores.median()"
   ]
  },
  {
   "cell_type": "markdown",
   "id": "f0231990",
   "metadata": {},
   "source": [
    "3. Plot the Series in a meaningful way and make sure your chart has a title and axis labels."
   ]
  },
  {
   "cell_type": "code",
   "execution_count": 135,
   "id": "3e329c46",
   "metadata": {},
   "outputs": [
    {
     "data": {
      "text/plain": [
       "Text(0.5, 0, 'Score out of 100')"
      ]
     },
     "execution_count": 135,
     "metadata": {},
     "output_type": "execute_result"
    },
    {
     "data": {
      "image/png": "[encoded data removed]",
      "text/plain": [
       "<Figure size 432x288 with 1 Axes>"
      ]
     },
     "metadata": {
      "needs_background": "light"
     },
     "output_type": "display_data"
    }
   ],
   "source": [
    "esp = exam_scores.plot.hist()\n",
    "esp.set_title('Exam Scores by Frequency')\n",
    "esp.set_xlabel('Score out of 100')"
   ]
  },
  {
   "cell_type": "markdown",
   "id": "5aadafd4",
   "metadata": {},
   "source": [
    "4. Write the code necessary to implement a curve for your exam_grades Series and save this as curved_grades. Add the necessary points to the highest grade to make it 100, and add the same number of points to every other score in the Series as well."
   ]
  },
  {
   "cell_type": "code",
   "execution_count": 137,
   "id": "8a1e862d",
   "metadata": {},
   "outputs": [],
   "source": [
    "curved_grades = exam_scores + 4"
   ]
  },
  {
   "cell_type": "markdown",
   "id": "73b2cf24",
   "metadata": {},
   "source": [
    "5. Use a method to convert each of the numeric values in the curved_grades Series into a categorical value of letter grades. For example, 86 should be a 'B' and 95 should be an 'A'. Save this as a Series named letter_grades."
   ]
  },
  {
   "cell_type": "code",
   "execution_count": 139,
   "id": "efa52d16",
   "metadata": {},
   "outputs": [],
   "source": [
    "letter_grades = curved_grades.apply(lambda n: 'A' if n > 89 else 'B' if n > 79 else 'C' if n > 69 else 'D' if n > 59 else 'F')"
   ]
  },
  {
   "cell_type": "code",
   "execution_count": null,
   "id": "3c6b290f",
   "metadata": {},
   "outputs": [],
   "source": []
  },
  {
   "cell_type": "markdown",
   "id": "2baae1a7",
   "metadata": {},
   "source": [
    "6. Plot your new categorical letter_grades Series in a meaninful way and include a title and axis labels."
   ]
  },
  {
   "cell_type": "code",
   "execution_count": 162,
   "id": "e88fdd3f",
   "metadata": {},
   "outputs": [
    {
     "data": {
      "image/png": "[encoded data removed]",
      "text/plain": [
       "<Figure size 432x288 with 1 Axes>"
      ]
     },
     "metadata": {
      "needs_background": "light"
     },
     "output_type": "display_data"
    }
   ],
   "source": [
    "lgp = letter_grades.value_counts().plot(title = 'Most students got a B', xlabel = 'Letter Grades', ylabel = 'Number of Students recieving')\n",
    "# lgp.set_xlabel = 'Letter Grades'"
   ]
  },
  {
   "cell_type": "markdown",
   "id": "1508e2a0",
   "metadata": {},
   "source": [
    "# More Practice\n",
    "Revisit the exercises from https://gist.github.com/ryanorsinger/f7d7c1dd6a328730c04f3dc5c5c69f3a."
   ]
  },
  {
   "cell_type": "markdown",
   "id": "06a2c422",
   "metadata": {},
   "source": [
    "After you complete each set of Series exercises, use any extra time you have to pursue the challenge below. You can work on these in the same notebook or file as the Series exercises or create a new practice notebook you can work in a little every day to keep your python and pandas skills sharp by trying to solve problems in multiple ways. These are not a part of the Series exercises grade, so don't worry if it takes you days or weeks to meet the challenge."
   ]
  },
  {
   "cell_type": "markdown",
   "id": "a386d557",
   "metadata": {},
   "source": [
    "#### Challenge yourself to be able to..."
   ]
  },
  {
   "cell_type": "markdown",
   "id": "b1578a74",
   "metadata": {},
   "source": [
    "* solve each using vanilla python."
   ]
  },
  {
   "cell_type": "code",
   "execution_count": null,
   "id": "7bcef391",
   "metadata": {},
   "outputs": [],
   "source": []
  },
  {
   "cell_type": "markdown",
   "id": "dda54871",
   "metadata": {},
   "source": [
    "* solve each using list comprehensions."
   ]
  },
  {
   "cell_type": "code",
   "execution_count": null,
   "id": "c9037cf1",
   "metadata": {},
   "outputs": [],
   "source": []
  },
  {
   "cell_type": "markdown",
   "id": "1f32c0e1",
   "metadata": {},
   "source": [
    "* solve each by using a pandas Series for the data structure instead of lists and using vectorized operations instead of loops and list comprehensions."
   ]
  },
  {
   "cell_type": "code",
   "execution_count": null,
   "id": "d02d1ba6",
   "metadata": {},
   "outputs": [],
   "source": []
  }
 ],
 "metadata": {
  "kernelspec": {
   "display_name": "Python 3 (ipykernel)",
   "language": "python",
   "name": "python3"
  },
  "language_info": {
   "codemirror_mode": {
    "name": "ipython",
    "version": 3
   },
   "file_extension": ".py",
   "mimetype": "text/x-python",
   "name": "python",
   "nbconvert_exporter": "python",
   "pygments_lexer": "ipython3",
   "version": "3.9.12"
  }
 },
 "nbformat": 4,
 "nbformat_minor": 5
}
